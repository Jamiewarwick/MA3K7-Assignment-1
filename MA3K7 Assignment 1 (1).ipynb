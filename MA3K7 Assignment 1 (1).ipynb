{
 "cells": [
  {
   "cell_type": "code",
   "execution_count": 1,
   "id": "a09f7a80-1b6d-4a33-80b7-70257c711944",
   "metadata": {
    "tags": []
   },
   "outputs": [],
   "source": [
    "import numpy as np\n",
    "import matplotlib.pyplot as plt"
   ]
  },
  {
   "cell_type": "code",
   "execution_count": 2,
   "id": "49cc598b-ddd3-4323-ac81-0f64df2a0b89",
   "metadata": {
    "tags": []
   },
   "outputs": [
    {
     "name": "stdout",
     "output_type": "stream",
     "text": [
      "[1, 5, 6, 1, 7, 8, 5, 3, 8, 1, 9, 0, 9, 9, 8, 7, 5, 2, 7, 9, 6, 5, 1, 6, 7, 3, 0, 3, 3, 6, 9, 5, 4, 9, 3, 2, 5, 7, 2, 9, 1, 0, 1, 1, 2, 3, 5, 8, 3, 1, 4, 5, 9, 4, 3, 7, 0, 7, 7, 4, 1, 5, 6, 1, 7, 8]\n"
     ]
    }
   ],
   "source": [
    "def fibonacci_mod_10(a, b, n):\n",
    "    \n",
    "    ##Computes the Fibonacci sequence mod 10 starting with two given numbers for n terms.\n",
    "    fibonacci_sequence = [a % 10, b % 10]\n",
    "    \n",
    "    for k in range(2, n):\n",
    "        next_number = (fibonacci_sequence[-1] + fibonacci_sequence[-2]) % 10\n",
    "        fibonacci_sequence.append(next_number)\n",
    "    \n",
    "    return fibonacci_sequence\n",
    "\n",
    "#Example:\n",
    "print(fibonacci_mod_10(1, 5, 66))"
   ]
  },
  {
   "cell_type": "code",
   "execution_count": 3,
   "id": "17afe110-8f50-4cfe-be94-b1cb81f87d86",
   "metadata": {
    "tags": []
   },
   "outputs": [
    {
     "name": "stdout",
     "output_type": "stream",
     "text": [
      "[0, 0, 0, 0, 0]\n"
     ]
    }
   ],
   "source": [
    "print(fibonacci_mod_10(0,0,5))"
   ]
  },
  {
   "cell_type": "code",
   "execution_count": 4,
   "id": "af99868c-9de7-4551-88bc-ed6db148ec38",
   "metadata": {
    "tags": []
   },
   "outputs": [
    {
     "name": "stdout",
     "output_type": "stream",
     "text": [
      "[2, 6, 8, 4, 2, 6]\n"
     ]
    }
   ],
   "source": [
    "print(fibonacci_mod_10(2,6,6))"
   ]
  },
  {
   "cell_type": "code",
   "execution_count": 5,
   "id": "6c742ff2-51b1-40d1-afb0-7279b2241afa",
   "metadata": {
    "tags": []
   },
   "outputs": [],
   "source": [
    "def fibonacci_mod_10_plus_length(a, b):\n",
    "\n",
    "    ##Computes the Fibonacci sequence mod 10 starting with a given pair and stops when a pair of numbers repeats.\n",
    "    ##Also computes length of sequence until repeating\n",
    "\n",
    "    fibonacci_sequence = [a % 10, b % 10]\n",
    "    #Track which pairs we see:\n",
    "    seen_pairs = set()\n",
    "    seen_pairs.add((fibonacci_sequence[-2], fibonacci_sequence[-1]))\n",
    "\n",
    "    while True:\n",
    "        next_number = (fibonacci_sequence[-1] + fibonacci_sequence[-2]) % 10\n",
    "        next_pair = (fibonacci_sequence[-1], next_number)\n",
    "        fibonacci_sequence.append(next_number)\n",
    "        if next_pair in seen_pairs:\n",
    "            break\n",
    "        \n",
    "        seen_pairs.add(next_pair)\n",
    "\n",
    "    return fibonacci_sequence, np.size(fibonacci_sequence) -2 "
   ]
  },
  {
   "cell_type": "code",
   "execution_count": 6,
   "id": "484e8198-94a9-4b04-ad38-9a74b3825cc5",
   "metadata": {
    "tags": []
   },
   "outputs": [
    {
     "name": "stdout",
     "output_type": "stream",
     "text": [
      "([0, 0, 0], 1)\n"
     ]
    }
   ],
   "source": [
    "print(fibonacci_mod_10_plus_length(0,0))"
   ]
  },
  {
   "cell_type": "code",
   "execution_count": 7,
   "id": "24d6b4be-0378-48e4-8b9f-7f9c4b043c7d",
   "metadata": {
    "tags": []
   },
   "outputs": [
    {
     "name": "stdout",
     "output_type": "stream",
     "text": [
      "([0, 1, 1, 2, 3, 5, 8, 3, 1, 4, 5, 9, 4, 3, 7, 0, 7, 7, 4, 1, 5, 6, 1, 7, 8, 5, 3, 8, 1, 9, 0, 9, 9, 8, 7, 5, 2, 7, 9, 6, 5, 1, 6, 7, 3, 0, 3, 3, 6, 9, 5, 4, 9, 3, 2, 5, 7, 2, 9, 1, 0, 1], 60)\n"
     ]
    }
   ],
   "source": [
    "print(fibonacci_mod_10_plus_length(0,1))"
   ]
  },
  {
   "cell_type": "code",
   "execution_count": 8,
   "id": "f268e743-53b1-46c4-937f-b348d8feec16",
   "metadata": {
    "tags": []
   },
   "outputs": [
    {
     "name": "stdout",
     "output_type": "stream",
     "text": [
      "([0, 2, 2, 4, 6, 0, 6, 6, 2, 8, 0, 8, 8, 6, 4, 0, 4, 4, 8, 2, 0, 2], 20)\n"
     ]
    }
   ],
   "source": [
    "print(fibonacci_mod_10_plus_length(0,2))"
   ]
  },
  {
   "cell_type": "code",
   "execution_count": 9,
   "id": "92297fc4-008d-4942-8065-f18724fe36b9",
   "metadata": {
    "tags": []
   },
   "outputs": [
    {
     "name": "stdout",
     "output_type": "stream",
     "text": [
      "([0, 5, 5, 0, 5], 3)\n"
     ]
    }
   ],
   "source": [
    "print(fibonacci_mod_10_plus_length(0,5))"
   ]
  },
  {
   "cell_type": "markdown",
   "id": "23e02b3f-35e5-4d3e-9976-aaf48626cfb8",
   "metadata": {},
   "source": [
    "Now I want to automate this process in which starting pairs to try!"
   ]
  },
  {
   "cell_type": "code",
   "execution_count": 10,
   "id": "d0cefb6d-8eb4-4ab0-9950-f2f16691a6e8",
   "metadata": {
    "tags": []
   },
   "outputs": [
    {
     "name": "stdout",
     "output_type": "stream",
     "text": [
      "Fibonacci Sequence: [1, 5, 6, 1, 7, 8, 5, 3, 8, 1, 9, 0, 9, 9, 8, 7, 5, 2, 7, 9, 6, 5, 1, 6, 7, 3, 0, 3, 3, 6, 9, 5, 4, 9, 3, 2, 5, 7, 2, 9, 1, 0, 1, 1, 2, 3, 5, 8, 3, 1, 4, 5, 9, 4, 3, 7, 0, 7, 7, 4, 1, 5]\n",
      "Remaining Pairs: {(4, 0), (8, 0), (8, 9), (0, 5), (2, 2), (6, 2), (7, 1), (4, 2), (8, 2), (2, 4), (1, 8), (6, 4), (5, 5), (8, 4), (0, 0), (6, 6), (0, 2), (1, 3), (5, 0), (9, 7), (4, 4), (2, 6), (4, 6), (9, 2), (8, 6), (2, 8), (6, 8), (3, 9), (4, 8), (8, 8), (0, 4), (2, 1), (0, 6), (6, 3), (3, 4), (0, 8), (7, 6), (4, 7), (2, 0), (6, 0)}\n",
      "Seen Pairs: {(4, 3), (4, 9), (3, 1), (5, 4), (3, 7), (5, 1), (5, 7), (9, 5), (8, 3), (9, 8), (1, 0), (1, 6), (2, 5), (1, 9), (7, 4), (7, 7), (6, 5), (3, 0), (4, 5), (3, 3), (5, 6), (3, 6), (5, 3), (5, 9), (9, 1), (8, 5), (9, 4), (0, 1), (0, 7), (1, 2), (2, 7), (1, 5), (6, 1), (7, 0), (7, 3), (7, 9), (6, 7), (3, 2), (4, 1), (3, 5), (5, 2), (3, 8), (9, 0), (9, 3), (8, 1), (9, 9), (8, 7), (9, 6), (0, 3), (0, 9), (1, 1), (5, 8), (1, 4), (2, 3), (2, 9), (1, 7), (7, 2), (7, 5), (6, 9), (7, 8)}\n"
     ]
    }
   ],
   "source": [
    "def fibonacci_mod_10_with_pairs_multiple(a, b):\n",
    "\n",
    "    #Our most Verbose version, will print our fibonacci sequences and keep track of pairs already seen and also the pairs in [10]x[10] not yet seen\n",
    "    remaining_pairs = {(i, j) for i in range(10) for j in range(10)}\n",
    "    fibonacci_sequence = [a % 10, b % 10]\n",
    "    seen_pairs = set()\n",
    "    seen_pairs.add((fibonacci_sequence[-2], fibonacci_sequence[-1]))\n",
    "    remaining_pairs.remove((fibonacci_sequence[-2], fibonacci_sequence[-1]))\n",
    "\n",
    "    while True:\n",
    "        next_number = (fibonacci_sequence[-1] + fibonacci_sequence[-2]) % 10\n",
    "        next_pair = (fibonacci_sequence[-1], next_number)\n",
    "        fibonacci_sequence.append(next_number)\n",
    "        if next_pair in remaining_pairs:\n",
    "            remaining_pairs.remove(next_pair)\n",
    "            \n",
    "        if next_pair in seen_pairs:\n",
    "            break\n",
    "        \n",
    "        seen_pairs.add(next_pair)\n",
    "    \n",
    "    return fibonacci_sequence, remaining_pairs, seen_pairs\n",
    "\n",
    "#Example:\n",
    "fibonacci_sequence, remaining_pairs, seen_pairs = fibonacci_mod_10_with_pairs_multiple(1, 5)\n",
    "print(\"Fibonacci Sequence:\", fibonacci_sequence)\n",
    "print(\"Remaining Pairs:\", remaining_pairs)\n",
    "print(\"Seen Pairs:\", seen_pairs)"
   ]
  },
  {
   "cell_type": "code",
   "execution_count": 11,
   "id": "e619b545-3dd0-4b94-8cc9-edcef2e1c748",
   "metadata": {
    "tags": []
   },
   "outputs": [
    {
     "name": "stdout",
     "output_type": "stream",
     "text": [
      "Starting pair: (0, 0) -> Fibonacci Sequence: [0, 0, 0] -> Total seen: {(0, 0)} -> Remaining: {(4, 0), (4, 9), (3, 7), (5, 4), (4, 6), (5, 1), (8, 0), (9, 2), (8, 9), (9, 8), (0, 5), (2, 2), (8, 6), (1, 0), (1, 9), (2, 8), (7, 4), (6, 2), (7, 1), (6, 8), (4, 2), (3, 0), (3, 9), (5, 6), (4, 8), (3, 6), (5, 3), (8, 2), (9, 1), (0, 7), (2, 4), (8, 8), (1, 2), (0, 4), (2, 1), (1, 8), (6, 4), (7, 3), (3, 2), (4, 1), (3, 8), (5, 5), (8, 4), (9, 3), (8, 1), (0, 9), (1, 4), (0, 6), (2, 3), (6, 6), (7, 5), (6, 3), (3, 4), (4, 3), (3, 1), (5, 7), (9, 5), (0, 2), (8, 3), (1, 6), (0, 8), (2, 5), (1, 3), (7, 7), (6, 5), (4, 5), (3, 3), (5, 0), (5, 9), (9, 7), (8, 5), (9, 4), (0, 1), (2, 7), (1, 5), (6, 1), (7, 0), (7, 9), (6, 7), (7, 6), (4, 7), (3, 5), (5, 2), (4, 4), (9, 0), (9, 9), (5, 8), (8, 7), (1, 1), (0, 3), (2, 0), (9, 6), (2, 9), (1, 7), (2, 6), (7, 2), (6, 0), (6, 9), (7, 8)}\n",
      "Starting pair: (0, 1) -> Fibonacci Sequence: [0, 1, 1, 2, 3, 5, 8, 3, 1, 4, 5, 9, 4, 3, 7, 0, 7, 7, 4, 1, 5, 6, 1, 7, 8, 5, 3, 8, 1, 9, 0, 9, 9, 8, 7, 5, 2, 7, 9, 6, 5, 1, 6, 7, 3, 0, 3, 3, 6, 9, 5, 4, 9, 3, 2, 5, 7, 2, 9, 1, 0, 1] -> Total seen: {(4, 3), (3, 1), (3, 7), (5, 4), (4, 9), (5, 1), (5, 7), (9, 5), (8, 3), (9, 8), (1, 0), (1, 6), (2, 5), (1, 9), (7, 4), (7, 7), (6, 5), (3, 0), (4, 5), (3, 3), (5, 6), (3, 6), (5, 3), (5, 9), (9, 1), (8, 5), (9, 4), (0, 1), (0, 7), (1, 2), (2, 7), (1, 5), (6, 1), (7, 0), (7, 3), (7, 9), (6, 7), (3, 2), (4, 1), (3, 5), (5, 2), (3, 8), (9, 0), (9, 3), (0, 0), (5, 8), (8, 1), (9, 9), (1, 1), (8, 7), (0, 9), (9, 6), (1, 4), (0, 3), (2, 3), (2, 9), (1, 7), (7, 2), (7, 5), (6, 9), (7, 8)} -> Remaining: {(4, 0), (3, 4), (4, 6), (9, 2), (8, 0), (0, 2), (8, 9), (0, 5), (2, 2), (8, 6), (0, 8), (1, 3), (2, 8), (6, 2), (7, 1), (6, 8), (4, 2), (5, 0), (3, 9), (4, 8), (8, 2), (9, 7), (8, 8), (2, 4), (0, 4), (2, 1), (1, 8), (6, 4), (7, 6), (4, 7), (4, 4), (5, 5), (8, 4), (2, 0), (0, 6), (2, 6), (6, 0), (6, 6), (6, 3)}\n",
      "Starting pair: (0, 2) -> Fibonacci Sequence: [0, 2, 2, 4, 6, 0, 6, 6, 2, 8, 0, 8, 8, 6, 4, 0, 4, 4, 8, 2, 0, 2] -> Total seen: {(4, 0), (4, 9), (3, 7), (5, 4), (4, 6), (5, 1), (8, 0), (9, 8), (8, 6), (2, 2), (1, 0), (1, 9), (2, 8), (7, 4), (6, 2), (3, 0), (5, 6), (4, 8), (3, 6), (5, 3), (8, 2), (9, 1), (0, 7), (8, 8), (1, 2), (2, 4), (0, 4), (6, 4), (7, 3), (3, 2), (4, 1), (3, 8), (9, 3), (0, 0), (8, 1), (0, 9), (1, 4), (0, 6), (2, 3), (6, 6), (7, 5), (4, 3), (3, 1), (5, 7), (9, 5), (8, 3), (0, 2), (1, 6), (0, 8), (2, 5), (7, 7), (6, 5), (4, 5), (3, 3), (5, 9), (8, 5), (9, 4), (0, 1), (2, 7), (1, 5), (6, 1), (7, 0), (7, 9), (6, 7), (3, 5), (5, 2), (4, 4), (9, 0), (5, 8), (9, 9), (8, 7), (1, 1), (9, 6), (0, 3), (2, 0), (2, 9), (1, 7), (7, 2), (6, 0), (6, 9), (7, 8)} -> Remaining: {(3, 4), (9, 2), (8, 9), (0, 5), (1, 3), (7, 1), (6, 8), (4, 2), (5, 0), (3, 9), (9, 7), (2, 1), (1, 8), (7, 6), (4, 7), (5, 5), (8, 4), (2, 6), (6, 3)}\n",
      "Starting pair: (0, 5) -> Fibonacci Sequence: [0, 5, 5, 0, 5] -> Total seen: {(4, 0), (4, 9), (3, 7), (5, 4), (4, 6), (5, 1), (8, 0), (9, 8), (8, 6), (2, 2), (1, 0), (0, 5), (1, 9), (2, 8), (7, 4), (6, 2), (3, 0), (5, 6), (4, 8), (3, 6), (5, 3), (8, 2), (9, 1), (0, 7), (8, 8), (1, 2), (2, 4), (0, 4), (6, 4), (7, 3), (3, 2), (4, 1), (3, 8), (5, 5), (9, 3), (0, 0), (8, 1), (0, 9), (1, 4), (0, 6), (2, 3), (6, 6), (7, 5), (4, 3), (3, 1), (5, 7), (9, 5), (8, 3), (0, 2), (1, 6), (0, 8), (2, 5), (7, 7), (6, 5), (4, 5), (3, 3), (5, 0), (5, 9), (8, 5), (9, 4), (0, 1), (2, 7), (1, 5), (6, 1), (7, 0), (7, 9), (6, 7), (3, 5), (5, 2), (4, 4), (9, 0), (5, 8), (9, 9), (8, 7), (1, 1), (9, 6), (0, 3), (2, 0), (2, 9), (1, 7), (7, 2), (6, 0), (6, 9), (7, 8)} -> Remaining: {(9, 7), (8, 4), (7, 1), (2, 1), (3, 4), (6, 8), (1, 8), (9, 2), (4, 2), (8, 9), (2, 6), (3, 9), (7, 6), (6, 3), (1, 3), (4, 7)}\n",
      "Starting pair: (1, 3) -> Fibonacci Sequence: [1, 3, 4, 7, 1, 8, 9, 7, 6, 3, 9, 2, 1, 3] -> Total seen: {(4, 0), (4, 9), (3, 7), (5, 4), (4, 6), (5, 1), (8, 0), (9, 2), (8, 9), (9, 8), (8, 6), (2, 2), (1, 0), (0, 5), (1, 9), (2, 8), (7, 4), (6, 2), (7, 1), (3, 0), (3, 9), (5, 6), (4, 8), (3, 6), (5, 3), (8, 2), (9, 1), (0, 7), (8, 8), (1, 2), (2, 4), (0, 4), (2, 1), (1, 8), (6, 4), (7, 3), (3, 2), (4, 1), (3, 8), (5, 5), (9, 3), (0, 0), (8, 1), (0, 9), (1, 4), (0, 6), (2, 3), (6, 6), (7, 5), (6, 3), (3, 4), (4, 3), (3, 1), (5, 7), (9, 5), (8, 3), (0, 2), (1, 6), (0, 8), (2, 5), (1, 3), (7, 7), (6, 5), (4, 5), (3, 3), (5, 0), (5, 9), (9, 7), (8, 5), (9, 4), (0, 1), (2, 7), (1, 5), (6, 1), (7, 0), (7, 9), (6, 7), (7, 6), (4, 7), (3, 5), (5, 2), (4, 4), (9, 0), (5, 8), (9, 9), (8, 7), (1, 1), (9, 6), (0, 3), (2, 0), (2, 9), (1, 7), (7, 2), (6, 0), (6, 9), (7, 8)} -> Remaining: {(6, 8), (2, 6), (8, 4), (4, 2)}\n",
      "Starting pair: (2, 6) -> Fibonacci Sequence: [2, 6, 8, 4, 2, 6] -> Total seen: {(4, 0), (4, 9), (3, 7), (5, 4), (4, 6), (5, 1), (8, 0), (9, 2), (8, 9), (9, 8), (8, 6), (2, 2), (1, 0), (0, 5), (1, 9), (2, 8), (7, 4), (6, 2), (7, 1), (6, 8), (4, 2), (3, 0), (3, 9), (5, 6), (4, 8), (3, 6), (5, 3), (8, 2), (9, 1), (0, 7), (8, 8), (1, 2), (2, 4), (0, 4), (2, 1), (1, 8), (6, 4), (7, 3), (3, 2), (4, 1), (3, 8), (5, 5), (8, 4), (9, 3), (0, 0), (8, 1), (0, 9), (1, 4), (0, 6), (2, 3), (6, 6), (7, 5), (6, 3), (3, 4), (4, 3), (3, 1), (5, 7), (9, 5), (8, 3), (0, 2), (1, 6), (0, 8), (2, 5), (1, 3), (7, 7), (6, 5), (4, 5), (3, 3), (5, 0), (5, 9), (9, 7), (8, 5), (9, 4), (0, 1), (2, 7), (1, 5), (6, 1), (7, 0), (7, 9), (6, 7), (7, 6), (4, 7), (3, 5), (5, 2), (4, 4), (9, 0), (5, 8), (9, 9), (8, 7), (1, 1), (9, 6), (0, 3), (2, 0), (2, 9), (1, 7), (2, 6), (7, 2), (6, 0), (6, 9), (7, 8)} -> Remaining: set()\n"
     ]
    }
   ],
   "source": [
    "#We will loop through the possible pairs, keeping track of our total seem pairs from each sequence formed\n",
    "#adding them to total_seen_pairs, and removing remaining pairs from total_remaining_pairs\n",
    "#print as we go, verbose but good book keeping\n",
    "total_pairs = [(i,j) for i in range(10) for j in range(10)]\n",
    "total_seen_pairs = set()\n",
    "total_remaining_pairs_initialise = {(i,j) for i in range(10) for j in range(10)}\n",
    "\n",
    "for a,b in total_pairs:\n",
    "    if (a,b) not in total_seen_pairs:\n",
    "        fibonacci_sequence, remaining_pairs, seen_pairs = fibonacci_mod_10_with_pairs_multiple(a, b)\n",
    "        total_seen_pairs.update(seen_pairs)\n",
    "        total_remaining_pairs = total_remaining_pairs_initialise.difference(total_seen_pairs)\n",
    "        print(f\"Starting pair: ({a}, {b}) -> Fibonacci Sequence: {fibonacci_sequence} -> Total seen: {total_seen_pairs} -> Remaining: {total_remaining_pairs}\")\n",
    "        "
   ]
  },
  {
   "cell_type": "markdown",
   "id": "74bf14e2-832b-4dc8-a6b0-4609bc74c627",
   "metadata": {},
   "source": [
    "Remaining set is empty, total set is complete, and we have 6 Number bracelets! "
   ]
  },
  {
   "cell_type": "markdown",
   "id": "50b9ca76-6c7c-4b50-8d42-140c90bba502",
   "metadata": {},
   "source": [
    "Next it should be easy to generalise our code to work mod n, and all the theory should generalise so our sequences still repeat."
   ]
  },
  {
   "cell_type": "code",
   "execution_count": 12,
   "id": "92efa87f-87b8-4bd6-b031-4b4fe5f9f6d6",
   "metadata": {
    "tags": []
   },
   "outputs": [
    {
     "name": "stdout",
     "output_type": "stream",
     "text": [
      "Fibonacci Sequence: [1, 0, 1, 1, 2, 3, 0, 3, 3, 1, 4, 0, 4, 4, 3, 2, 0, 2, 2, 4, 1, 0]\n",
      "Remaining Pairs: {(3, 4), (1, 3), (4, 2), (2, 1), (0, 0)}\n",
      "Seen Pairs: {(4, 0), (4, 3), (3, 1), (0, 2), (2, 2), (1, 0), (3, 0), (3, 3), (0, 1), (2, 4), (1, 2), (0, 4), (3, 2), (4, 1), (4, 4), (1, 1), (0, 3), (2, 0), (1, 4), (2, 3)}\n"
     ]
    }
   ],
   "source": [
    "def fibonacci_mod_n_with_pairs_multiple(a, b, n):\n",
    "\n",
    "    #Our most Verbose version, will print our fibonacci sequences and keep track of pairs already seen and also the pairs in [n]x[n] not yet seen\n",
    "    remaining_pairs = {(i, j) for i in range(n) for j in range(n)}\n",
    "    fibonacci_sequence = [a % n, b % n]\n",
    "    seen_pairs = set()\n",
    "    seen_pairs.add((fibonacci_sequence[-2], fibonacci_sequence[-1]))\n",
    "    remaining_pairs.remove((fibonacci_sequence[-2], fibonacci_sequence[-1]))\n",
    "\n",
    "    while True:\n",
    "        next_number = (fibonacci_sequence[-1] + fibonacci_sequence[-2]) % n\n",
    "        next_pair = (fibonacci_sequence[-1], next_number)\n",
    "        fibonacci_sequence.append(next_number)\n",
    "        if next_pair in remaining_pairs:\n",
    "            remaining_pairs.remove(next_pair)\n",
    "            \n",
    "        if next_pair in seen_pairs:\n",
    "            break\n",
    "        \n",
    "        seen_pairs.add(next_pair)\n",
    "    \n",
    "    return fibonacci_sequence, remaining_pairs, seen_pairs\n",
    "\n",
    "#Example:\n",
    "fibonacci_sequence, remaining_pairs, seen_pairs = fibonacci_mod_n_with_pairs_multiple(1, 5, 5)\n",
    "print(\"Fibonacci Sequence:\", fibonacci_sequence)\n",
    "print(\"Remaining Pairs:\", remaining_pairs)\n",
    "print(\"Seen Pairs:\", seen_pairs)"
   ]
  },
  {
   "cell_type": "code",
   "execution_count": 13,
   "id": "b44d7a1e-73cf-43c7-a5f3-605f4ae7bcc3",
   "metadata": {
    "tags": []
   },
   "outputs": [
    {
     "name": "stdout",
     "output_type": "stream",
     "text": [
      "Starting pair: (0, 0) -> Fibonacci Sequence: [0, 0, 0] -> Total seen: {(0, 0)} -> Remaining: {(0, 1), (2, 4), (4, 0), (1, 2), (3, 4), (0, 4), (4, 3), (3, 1), (2, 1), (0, 2), (2, 2), (1, 0), (3, 2), (1, 3), (4, 1), (4, 4), (1, 1), (0, 3), (2, 0), (4, 2), (3, 0), (1, 4), (2, 3), (3, 3)}\n",
      "Starting pair: (0, 1) -> Fibonacci Sequence: [0, 1, 1, 2, 3, 0, 3, 3, 1, 4, 0, 4, 4, 3, 2, 0, 2, 2, 4, 1, 0, 1] -> Total seen: {(0, 1), (2, 4), (4, 0), (1, 2), (0, 4), (4, 3), (3, 1), (0, 2), (2, 2), (1, 0), (3, 2), (4, 1), (4, 4), (0, 0), (1, 1), (0, 3), (2, 0), (1, 4), (3, 0), (2, 3), (3, 3)} -> Remaining: {(2, 1), (1, 3), (3, 4), (4, 2)}\n",
      "Starting pair: (1, 3) -> Fibonacci Sequence: [1, 3, 4, 2, 1, 3] -> Total seen: {(0, 1), (2, 4), (4, 0), (1, 2), (0, 4), (2, 1), (4, 3), (3, 1), (3, 4), (0, 2), (2, 2), (1, 0), (3, 2), (4, 1), (1, 3), (4, 4), (0, 0), (1, 1), (0, 3), (2, 0), (1, 4), (3, 0), (2, 3), (4, 2), (3, 3)} -> Remaining: set()\n"
     ]
    }
   ],
   "source": [
    "#We will loop through the possible pairs mod n, keeping track of our total seem pairs from each sequence formed\n",
    "#adding them to total_seen_pairs, and removing remaining pairs from total_remaining_pairs\n",
    "#print as we go, verbose but good book keeping - will make a less verbose version for higher n\n",
    "def compute_bracelets_mod_n_verbose(n):\n",
    "    total_pairs = [(i,j) for i in range(n) for j in range(n)]\n",
    "    total_seen_pairs = set()\n",
    "    total_remaining_pairs_initialise = {(i,j) for i in range(n) for j in range(n)}\n",
    "\n",
    "    for a,b in total_pairs:\n",
    "        if (a,b) not in total_seen_pairs:\n",
    "            fibonacci_sequence, remaining_pairs, seen_pairs = fibonacci_mod_n_with_pairs_multiple(a, b,n)\n",
    "            total_seen_pairs.update(seen_pairs)\n",
    "            total_remaining_pairs = total_remaining_pairs_initialise.difference(total_seen_pairs)\n",
    "            print(f\"Starting pair: ({a}, {b}) -> Fibonacci Sequence: {fibonacci_sequence} -> Total seen: {total_seen_pairs} -> Remaining: {total_remaining_pairs}\")\n",
    "\n",
    "            \n",
    "compute_bracelets_mod_n_verbose(5)"
   ]
  },
  {
   "cell_type": "code",
   "execution_count": 14,
   "id": "4ec03da8-2982-4ea1-9559-ac6dd2647407",
   "metadata": {
    "tags": []
   },
   "outputs": [
    {
     "name": "stdout",
     "output_type": "stream",
     "text": [
      "Starting pair: (0, 0) -> Fibonacci Sequence: [0, 0, 0] -> Total seen: {(0, 0)} -> Remaining: {(4, 0), (3, 4), (4, 3), (3, 1), (5, 4), (5, 1), (0, 2), (0, 5), (2, 2), (1, 0), (2, 5), (1, 3), (4, 2), (3, 0), (4, 5), (3, 3), (5, 0), (5, 3), (0, 1), (2, 4), (1, 2), (0, 4), (2, 1), (1, 5), (3, 2), (4, 1), (3, 5), (5, 2), (4, 4), (5, 5), (1, 1), (0, 3), (2, 0), (1, 4), (2, 3)}\n",
      "Starting pair: (0, 1) -> Fibonacci Sequence: [0, 1, 1, 2, 3, 5, 2, 1, 3, 4, 1, 5, 0, 5, 5, 4, 3, 1, 4, 5, 3, 2, 5, 1, 0, 1] -> Total seen: {(0, 1), (1, 2), (3, 4), (2, 1), (4, 3), (3, 1), (1, 5), (5, 4), (5, 1), (0, 5), (1, 0), (3, 2), (2, 5), (1, 3), (4, 1), (3, 5), (5, 2), (5, 5), (0, 0), (1, 1), (1, 4), (2, 3), (4, 5), (5, 0), (5, 3)} -> Remaining: {(4, 4), (2, 4), (4, 0), (0, 4), (0, 3), (2, 0), (4, 2), (3, 0), (0, 2), (3, 3), (2, 2)}\n",
      "Starting pair: (0, 2) -> Fibonacci Sequence: [0, 2, 2, 4, 0, 4, 4, 2, 0, 2] -> Total seen: {(0, 1), (2, 4), (1, 2), (4, 0), (3, 4), (2, 1), (4, 3), (3, 1), (1, 5), (5, 4), (0, 4), (5, 1), (0, 2), (0, 5), (2, 2), (1, 0), (3, 2), (2, 5), (1, 3), (4, 1), (3, 5), (5, 2), (4, 4), (5, 5), (0, 0), (1, 1), (2, 0), (1, 4), (4, 2), (2, 3), (4, 5), (5, 0), (5, 3)} -> Remaining: {(0, 3), (3, 3), (3, 0)}\n",
      "Starting pair: (0, 3) -> Fibonacci Sequence: [0, 3, 3, 0, 3] -> Total seen: {(0, 1), (2, 4), (1, 2), (4, 0), (3, 4), (2, 1), (4, 3), (3, 1), (1, 5), (5, 4), (0, 4), (5, 1), (0, 2), (0, 5), (2, 2), (1, 0), (3, 2), (2, 5), (1, 3), (4, 1), (3, 5), (5, 2), (4, 4), (5, 5), (0, 0), (1, 1), (0, 3), (2, 0), (1, 4), (4, 2), (2, 3), (3, 0), (4, 5), (3, 3), (5, 0), (5, 3)} -> Remaining: set()\n"
     ]
    }
   ],
   "source": [
    "compute_bracelets_mod_n_verbose(6)"
   ]
  },
  {
   "cell_type": "code",
   "execution_count": 15,
   "id": "f2cef718-47ef-4b3c-895a-32e16a31a13c",
   "metadata": {
    "tags": []
   },
   "outputs": [
    {
     "name": "stdout",
     "output_type": "stream",
     "text": [
      "Starting pair: (0, 0) -> Fibonacci Sequence: [0, 0, 0] -> Total seen: {(0, 0)} -> Remaining: {(0, 1), (1, 2), (2, 1), (1, 1), (2, 0), (0, 2), (2, 2), (1, 0)}\n",
      "Starting pair: (0, 1) -> Fibonacci Sequence: [0, 1, 1, 2, 0, 2, 2, 1, 0, 1] -> Total seen: {(0, 1), (1, 2), (2, 1), (0, 0), (1, 1), (2, 0), (0, 2), (2, 2), (1, 0)} -> Remaining: set()\n"
     ]
    }
   ],
   "source": [
    "compute_bracelets_mod_n_verbose(3)"
   ]
  },
  {
   "cell_type": "code",
   "execution_count": 16,
   "id": "fb9aec81-e093-4c1b-8a25-10030862b679",
   "metadata": {
    "tags": []
   },
   "outputs": [
    {
     "name": "stdout",
     "output_type": "stream",
     "text": [
      "Starting pair: (0, 0) -> Fibonacci Sequence: [0, 0, 0] -> Total seen: {(0, 0)} -> Remaining: {(0, 1), (1, 2), (2, 1), (3, 1), (0, 2), (2, 2), (1, 0), (3, 2), (1, 3), (1, 1), (0, 3), (2, 0), (3, 0), (2, 3), (3, 3)}\n",
      "Starting pair: (0, 1) -> Fibonacci Sequence: [0, 1, 1, 2, 3, 1, 0, 1] -> Total seen: {(0, 1), (2, 3), (1, 0), (1, 2), (0, 0), (3, 1), (1, 1)} -> Remaining: {(2, 1), (0, 3), (2, 0), (3, 0), (0, 2), (3, 3), (2, 2), (3, 2), (1, 3)}\n",
      "Starting pair: (0, 2) -> Fibonacci Sequence: [0, 2, 2, 0, 2] -> Total seen: {(0, 1), (1, 2), (0, 0), (3, 1), (1, 1), (2, 0), (2, 3), (0, 2), (2, 2), (1, 0)} -> Remaining: {(2, 1), (0, 3), (3, 0), (3, 3), (3, 2), (1, 3)}\n",
      "Starting pair: (0, 3) -> Fibonacci Sequence: [0, 3, 3, 2, 1, 3, 0, 3] -> Total seen: {(0, 1), (1, 2), (2, 1), (0, 0), (3, 1), (1, 1), (0, 3), (2, 0), (3, 0), (2, 3), (0, 2), (3, 3), (2, 2), (1, 0), (3, 2), (1, 3)} -> Remaining: set()\n"
     ]
    }
   ],
   "source": [
    "compute_bracelets_mod_n_verbose(4)"
   ]
  },
  {
   "cell_type": "code",
   "execution_count": 17,
   "id": "b15c0bde-f518-41ae-a2f9-2ff50199e1a3",
   "metadata": {
    "tags": []
   },
   "outputs": [],
   "source": [
    "#We will loop through the possible pairs mod n, keeping track of our total seem pairs from each sequence formed\n",
    "#adding them to total_seen_pairs, and removing remaining pairs from total_remaining_pairs\n",
    "#less verbose version\n",
    "def compute_bracelets_mod_n_not_verbose(n):\n",
    "    total_pairs = [(i,j) for i in range(n) for j in range(n)]\n",
    "    total_seen_pairs = set()\n",
    "    total_remaining_pairs_initialise = {(i,j) for i in range(n) for j in range(n)}\n",
    "\n",
    "    for a,b in total_pairs:\n",
    "        if (a,b) not in total_seen_pairs:\n",
    "            fibonacci_sequence, remaining_pairs, seen_pairs = fibonacci_mod_n_with_pairs_multiple(a, b,n)\n",
    "            total_seen_pairs.update(seen_pairs)\n",
    "            #total_remaining_pairs = total_remaining_pairs_initialise.difference(total_seen_pairs)\n",
    "            print(f\"Starting pair: ({a}, {b}) -> Fibonacci Sequence: {fibonacci_sequence}\")\n"
   ]
  },
  {
   "cell_type": "code",
   "execution_count": 18,
   "id": "caeb8e72-db25-45b8-9203-52e2fe4f318c",
   "metadata": {
    "tags": []
   },
   "outputs": [
    {
     "name": "stdout",
     "output_type": "stream",
     "text": [
      "Starting pair: (0, 0) -> Fibonacci Sequence: [0, 0, 0]\n",
      "Starting pair: (0, 1) -> Fibonacci Sequence: [0, 1, 1, 2, 3, 5, 8, 13, 1, 14, 15, 9, 4, 13, 17, 10, 7, 17, 4, 1, 5, 6, 11, 17, 8, 5, 13, 18, 11, 9, 0, 9, 9, 18, 7, 5, 12, 17, 9, 6, 15, 1, 16, 17, 13, 10, 3, 13, 16, 9, 5, 14, 19, 13, 12, 5, 17, 2, 19, 1, 0, 1]\n",
      "Starting pair: (0, 2) -> Fibonacci Sequence: [0, 2, 2, 4, 6, 10, 16, 6, 2, 8, 10, 18, 8, 6, 14, 0, 14, 14, 8, 2, 10, 12, 2, 14, 16, 10, 6, 16, 2, 18, 0, 18, 18, 16, 14, 10, 4, 14, 18, 12, 10, 2, 12, 14, 6, 0, 6, 6, 12, 18, 10, 8, 18, 6, 4, 10, 14, 4, 18, 2, 0, 2]\n",
      "Starting pair: (0, 3) -> Fibonacci Sequence: [0, 3, 3, 6, 9, 15, 4, 19, 3, 2, 5, 7, 12, 19, 11, 10, 1, 11, 12, 3, 15, 18, 13, 11, 4, 15, 19, 14, 13, 7, 0, 7, 7, 14, 1, 15, 16, 11, 7, 18, 5, 3, 8, 11, 19, 10, 9, 19, 8, 7, 15, 2, 17, 19, 16, 15, 11, 6, 17, 3, 0, 3]\n",
      "Starting pair: (0, 4) -> Fibonacci Sequence: [0, 4, 4, 8, 12, 0, 12, 12, 4, 16, 0, 16, 16, 12, 8, 0, 8, 8, 16, 4, 0, 4]\n",
      "Starting pair: (0, 5) -> Fibonacci Sequence: [0, 5, 5, 10, 15, 5, 0, 5]\n",
      "Starting pair: (0, 10) -> Fibonacci Sequence: [0, 10, 10, 0, 10]\n",
      "Starting pair: (0, 11) -> Fibonacci Sequence: [0, 11, 11, 2, 13, 15, 8, 3, 11, 14, 5, 19, 4, 3, 7, 10, 17, 7, 4, 11, 15, 6, 1, 7, 8, 15, 3, 18, 1, 19, 0, 19, 19, 18, 17, 15, 12, 7, 19, 6, 5, 11, 16, 7, 3, 10, 13, 3, 16, 19, 15, 14, 9, 3, 12, 15, 7, 2, 9, 11, 0, 11]\n",
      "Starting pair: (0, 13) -> Fibonacci Sequence: [0, 13, 13, 6, 19, 5, 4, 9, 13, 2, 15, 17, 12, 9, 1, 10, 11, 1, 12, 13, 5, 18, 3, 1, 4, 5, 9, 14, 3, 17, 0, 17, 17, 14, 11, 5, 16, 1, 17, 18, 15, 13, 8, 1, 9, 10, 19, 9, 8, 17, 5, 2, 7, 9, 16, 5, 1, 6, 7, 13, 0, 13]\n",
      "Starting pair: (0, 15) -> Fibonacci Sequence: [0, 15, 15, 10, 5, 15, 0, 15]\n",
      "Starting pair: (1, 3) -> Fibonacci Sequence: [1, 3, 4, 7, 11, 18, 9, 7, 16, 3, 19, 2, 1, 3]\n",
      "Starting pair: (1, 8) -> Fibonacci Sequence: [1, 8, 9, 17, 6, 3, 9, 12, 1, 13, 14, 7, 1, 8]\n",
      "Starting pair: (1, 18) -> Fibonacci Sequence: [1, 18, 19, 17, 16, 13, 9, 2, 11, 13, 4, 17, 1, 18]\n",
      "Starting pair: (2, 6) -> Fibonacci Sequence: [2, 6, 8, 14, 2, 16, 18, 14, 12, 6, 18, 4, 2, 6]\n",
      "Starting pair: (3, 14) -> Fibonacci Sequence: [3, 14, 17, 11, 8, 19, 7, 6, 13, 19, 12, 11, 3, 14]\n",
      "Starting pair: (4, 12) -> Fibonacci Sequence: [4, 12, 16, 8, 4, 12]\n"
     ]
    }
   ],
   "source": [
    "compute_bracelets_mod_n_not_verbose(20)"
   ]
  },
  {
   "cell_type": "code",
   "execution_count": 19,
   "id": "53bc0fc5-7b2d-4b66-a998-bf5289813a19",
   "metadata": {
    "tags": []
   },
   "outputs": [
    {
     "name": "stdout",
     "output_type": "stream",
     "text": [
      "Starting pair: (0, 0) -> Fibonacci Sequence: [0, 0, 0]\n",
      "Starting pair: (0, 1) -> Fibonacci Sequence: [0, 1, 1, 2, 3, 5, 8, 13, 21, 34, 55, 29, 24, 53, 17, 10, 27, 37, 4, 41, 45, 26, 11, 37, 48, 25, 13, 38, 51, 29, 20, 49, 9, 58, 7, 5, 12, 17, 29, 46, 15, 1, 16, 17, 33, 50, 23, 13, 36, 49, 25, 14, 39, 53, 32, 25, 57, 22, 19, 41, 0, 41, 41, 22, 3, 25, 28, 53, 21, 14, 35, 49, 24, 13, 37, 50, 27, 17, 44, 1, 45, 46, 31, 17, 48, 5, 53, 58, 51, 49, 40, 29, 9, 38, 47, 25, 12, 37, 49, 26, 15, 41, 56, 37, 33, 10, 43, 53, 36, 29, 5, 34, 39, 13, 52, 5, 57, 2, 59, 1, 0, 1]\n",
      "Starting pair: (0, 2) -> Fibonacci Sequence: [0, 2, 2, 4, 6, 10, 16, 26, 42, 8, 50, 58, 48, 46, 34, 20, 54, 14, 8, 22, 30, 52, 22, 14, 36, 50, 26, 16, 42, 58, 40, 38, 18, 56, 14, 10, 24, 34, 58, 32, 30, 2, 32, 34, 6, 40, 46, 26, 12, 38, 50, 28, 18, 46, 4, 50, 54, 44, 38, 22, 0, 22, 22, 44, 6, 50, 56, 46, 42, 28, 10, 38, 48, 26, 14, 40, 54, 34, 28, 2, 30, 32, 2, 34, 36, 10, 46, 56, 42, 38, 20, 58, 18, 16, 34, 50, 24, 14, 38, 52, 30, 22, 52, 14, 6, 20, 26, 46, 12, 58, 10, 8, 18, 26, 44, 10, 54, 4, 58, 2, 0, 2]\n",
      "Starting pair: (0, 3) -> Fibonacci Sequence: [0, 3, 3, 6, 9, 15, 24, 39, 3, 42, 45, 27, 12, 39, 51, 30, 21, 51, 12, 3, 15, 18, 33, 51, 24, 15, 39, 54, 33, 27, 0, 27, 27, 54, 21, 15, 36, 51, 27, 18, 45, 3, 48, 51, 39, 30, 9, 39, 48, 27, 15, 42, 57, 39, 36, 15, 51, 6, 57, 3, 0, 3]\n",
      "Starting pair: (0, 4) -> Fibonacci Sequence: [0, 4, 4, 8, 12, 20, 32, 52, 24, 16, 40, 56, 36, 32, 8, 40, 48, 28, 16, 44, 0, 44, 44, 28, 12, 40, 52, 32, 24, 56, 20, 16, 36, 52, 28, 20, 48, 8, 56, 4, 0, 4]\n",
      "Starting pair: (0, 5) -> Fibonacci Sequence: [0, 5, 5, 10, 15, 25, 40, 5, 45, 50, 35, 25, 0, 25, 25, 50, 15, 5, 20, 25, 45, 10, 55, 5, 0, 5]\n",
      "Starting pair: (0, 6) -> Fibonacci Sequence: [0, 6, 6, 12, 18, 30, 48, 18, 6, 24, 30, 54, 24, 18, 42, 0, 42, 42, 24, 6, 30, 36, 6, 42, 48, 30, 18, 48, 6, 54, 0, 54, 54, 48, 42, 30, 12, 42, 54, 36, 30, 6, 36, 42, 18, 0, 18, 18, 36, 54, 30, 24, 54, 18, 12, 30, 42, 12, 54, 6, 0, 6]\n",
      "Starting pair: (0, 7) -> Fibonacci Sequence: [0, 7, 7, 14, 21, 35, 56, 31, 27, 58, 25, 23, 48, 11, 59, 10, 9, 19, 28, 47, 15, 2, 17, 19, 36, 55, 31, 26, 57, 23, 20, 43, 3, 46, 49, 35, 24, 59, 23, 22, 45, 7, 52, 59, 51, 50, 41, 31, 12, 43, 55, 38, 33, 11, 44, 55, 39, 34, 13, 47, 0, 47, 47, 34, 21, 55, 16, 11, 27, 38, 5, 43, 48, 31, 19, 50, 9, 59, 8, 7, 15, 22, 37, 59, 36, 35, 11, 46, 57, 43, 40, 23, 3, 26, 29, 55, 24, 19, 43, 2, 45, 47, 32, 19, 51, 10, 1, 11, 12, 23, 35, 58, 33, 31, 4, 35, 39, 14, 53, 7, 0, 7]\n",
      "Starting pair: (0, 8) -> Fibonacci Sequence: [0, 8, 8, 16, 24, 40, 4, 44, 48, 32, 20, 52, 12, 4, 16, 20, 36, 56, 32, 28, 0, 28, 28, 56, 24, 20, 44, 4, 48, 52, 40, 32, 12, 44, 56, 40, 36, 16, 52, 8, 0, 8]\n",
      "Starting pair: (0, 9) -> Fibonacci Sequence: [0, 9, 9, 18, 27, 45, 12, 57, 9, 6, 15, 21, 36, 57, 33, 30, 3, 33, 36, 9, 45, 54, 39, 33, 12, 45, 57, 42, 39, 21, 0, 21, 21, 42, 3, 45, 48, 33, 21, 54, 15, 9, 24, 33, 57, 30, 27, 57, 24, 21, 45, 6, 51, 57, 48, 45, 33, 18, 51, 9, 0, 9]\n",
      "Starting pair: (0, 10) -> Fibonacci Sequence: [0, 10, 10, 20, 30, 50, 20, 10, 30, 40, 10, 50, 0, 50, 50, 40, 30, 10, 40, 50, 30, 20, 50, 10, 0, 10]\n",
      "Starting pair: (0, 11) -> Fibonacci Sequence: [0, 11, 11, 22, 33, 55, 28, 23, 51, 14, 5, 19, 24, 43, 7, 50, 57, 47, 44, 31, 15, 46, 1, 47, 48, 35, 23, 58, 21, 19, 40, 59, 39, 38, 17, 55, 12, 7, 19, 26, 45, 11, 56, 7, 3, 10, 13, 23, 36, 59, 35, 34, 9, 43, 52, 35, 27, 2, 29, 31, 0, 31, 31, 2, 33, 35, 8, 43, 51, 34, 25, 59, 24, 23, 47, 10, 57, 7, 4, 11, 15, 26, 41, 7, 48, 55, 43, 38, 21, 59, 20, 19, 39, 58, 37, 35, 12, 47, 59, 46, 45, 31, 16, 47, 3, 50, 53, 43, 36, 19, 55, 14, 9, 23, 32, 55, 27, 22, 49, 11, 0, 11]\n",
      "Starting pair: (0, 12) -> Fibonacci Sequence: [0, 12, 12, 24, 36, 0, 36, 36, 12, 48, 0, 48, 48, 36, 24, 0, 24, 24, 48, 12, 0, 12]\n",
      "Starting pair: (0, 13) -> Fibonacci Sequence: [0, 13, 13, 26, 39, 5, 44, 49, 33, 22, 55, 17, 12, 29, 41, 10, 51, 1, 52, 53, 45, 38, 23, 1, 24, 25, 49, 14, 3, 17, 20, 37, 57, 34, 31, 5, 36, 41, 17, 58, 15, 13, 28, 41, 9, 50, 59, 49, 48, 37, 25, 2, 27, 29, 56, 25, 21, 46, 7, 53, 0, 53, 53, 46, 39, 25, 4, 29, 33, 2, 35, 37, 12, 49, 1, 50, 51, 41, 32, 13, 45, 58, 43, 41, 24, 5, 29, 34, 3, 37, 40, 17, 57, 14, 11, 25, 36, 1, 37, 38, 15, 53, 8, 1, 9, 10, 19, 29, 48, 17, 5, 22, 27, 49, 16, 5, 21, 26, 47, 13, 0, 13]\n",
      "Starting pair: (0, 14) -> Fibonacci Sequence: [0, 14, 14, 28, 42, 10, 52, 2, 54, 56, 50, 46, 36, 22, 58, 20, 18, 38, 56, 34, 30, 4, 34, 38, 12, 50, 2, 52, 54, 46, 40, 26, 6, 32, 38, 10, 48, 58, 46, 44, 30, 14, 44, 58, 42, 40, 22, 2, 24, 26, 50, 16, 6, 22, 28, 50, 18, 8, 26, 34, 0, 34, 34, 8, 42, 50, 32, 22, 54, 16, 10, 26, 36, 2, 38, 40, 18, 58, 16, 14, 30, 44, 14, 58, 12, 10, 22, 32, 54, 26, 20, 46, 6, 52, 58, 50, 48, 38, 26, 4, 30, 34, 4, 38, 42, 20, 2, 22, 24, 46, 10, 56, 6, 2, 8, 10, 18, 28, 46, 14, 0, 14]\n",
      "Starting pair: (0, 15) -> Fibonacci Sequence: [0, 15, 15, 30, 45, 15, 0, 15]\n",
      "Starting pair: (0, 16) -> Fibonacci Sequence: [0, 16, 16, 32, 48, 20, 8, 28, 36, 4, 40, 44, 24, 8, 32, 40, 12, 52, 4, 56, 0, 56, 56, 52, 48, 40, 28, 8, 36, 44, 20, 4, 24, 28, 52, 20, 12, 32, 44, 16, 0, 16]\n",
      "Starting pair: (0, 17) -> Fibonacci Sequence: [0, 17, 17, 34, 51, 25, 16, 41, 57, 38, 35, 13, 48, 1, 49, 50, 39, 29, 8, 37, 45, 22, 7, 29, 36, 5, 41, 46, 27, 13, 40, 53, 33, 26, 59, 25, 24, 49, 13, 2, 15, 17, 32, 49, 21, 10, 31, 41, 12, 53, 5, 58, 3, 1, 4, 5, 9, 14, 23, 37, 0, 37, 37, 14, 51, 5, 56, 1, 57, 58, 55, 53, 48, 41, 29, 10, 39, 49, 28, 17, 45, 2, 47, 49, 36, 25, 1, 26, 27, 53, 20, 13, 33, 46, 19, 5, 24, 29, 53, 22, 15, 37, 52, 29, 21, 50, 11, 1, 12, 13, 25, 38, 3, 41, 44, 25, 9, 34, 43, 17, 0, 17]\n",
      "Starting pair: (0, 19) -> Fibonacci Sequence: [0, 19, 19, 38, 57, 35, 32, 7, 39, 46, 25, 11, 36, 47, 23, 10, 33, 43, 16, 59, 15, 14, 29, 43, 12, 55, 7, 2, 9, 11, 20, 31, 51, 22, 13, 35, 48, 23, 11, 34, 45, 19, 4, 23, 27, 50, 17, 7, 24, 31, 55, 26, 21, 47, 8, 55, 3, 58, 1, 59, 0, 59, 59, 58, 57, 55, 52, 47, 39, 26, 5, 31, 36, 7, 43, 50, 33, 23, 56, 19, 15, 34, 49, 23, 12, 35, 47, 22, 9, 31, 40, 11, 51, 2, 53, 55, 48, 43, 31, 14, 45, 59, 44, 43, 27, 10, 37, 47, 24, 11, 35, 46, 21, 7, 28, 35, 3, 38, 41, 19, 0, 19]\n",
      "Starting pair: (0, 20) -> Fibonacci Sequence: [0, 20, 20, 40, 0, 40, 40, 20, 0, 20]\n",
      "Starting pair: (0, 23) -> Fibonacci Sequence: [0, 23, 23, 46, 9, 55, 4, 59, 3, 2, 5, 7, 12, 19, 31, 50, 21, 11, 32, 43, 15, 58, 13, 11, 24, 35, 59, 34, 33, 7, 40, 47, 27, 14, 41, 55, 36, 31, 7, 38, 45, 23, 8, 31, 39, 10, 49, 59, 48, 47, 35, 22, 57, 19, 16, 35, 51, 26, 17, 43, 0, 43, 43, 26, 9, 35, 44, 19, 3, 22, 25, 47, 12, 59, 11, 10, 21, 31, 52, 23, 15, 38, 53, 31, 24, 55, 19, 14, 33, 47, 20, 7, 27, 34, 1, 35, 36, 11, 47, 58, 45, 43, 28, 11, 39, 50, 29, 19, 48, 7, 55, 2, 57, 59, 56, 55, 51, 46, 37, 23, 0, 23]\n",
      "Starting pair: (0, 26) -> Fibonacci Sequence: [0, 26, 26, 52, 18, 10, 28, 38, 6, 44, 50, 34, 24, 58, 22, 20, 42, 2, 44, 46, 30, 16, 46, 2, 48, 50, 38, 28, 6, 34, 40, 14, 54, 8, 2, 10, 12, 22, 34, 56, 30, 26, 56, 22, 18, 40, 58, 38, 36, 14, 50, 4, 54, 58, 52, 50, 42, 32, 14, 46, 0, 46, 46, 32, 18, 50, 8, 58, 6, 4, 10, 14, 24, 38, 2, 40, 42, 22, 4, 26, 30, 56, 26, 22, 48, 10, 58, 8, 6, 14, 20, 34, 54, 28, 22, 50, 12, 2, 14, 16, 30, 46, 16, 2, 18, 20, 38, 58, 36, 34, 10, 44, 54, 38, 32, 10, 42, 52, 34, 26, 0, 26]\n",
      "Starting pair: (0, 29) -> Fibonacci Sequence: [0, 29, 29, 58, 27, 25, 52, 17, 9, 26, 35, 1, 36, 37, 13, 50, 3, 53, 56, 49, 45, 34, 19, 53, 12, 5, 17, 22, 39, 1, 40, 41, 21, 2, 23, 25, 48, 13, 1, 14, 15, 29, 44, 13, 57, 10, 7, 17, 24, 41, 5, 46, 51, 37, 28, 5, 33, 38, 11, 49, 0, 49, 49, 38, 27, 5, 32, 37, 9, 46, 55, 41, 36, 17, 53, 10, 3, 13, 16, 29, 45, 14, 59, 13, 12, 25, 37, 2, 39, 41, 20, 1, 21, 22, 43, 5, 48, 53, 41, 34, 15, 49, 4, 53, 57, 50, 47, 37, 24, 1, 25, 26, 51, 17, 8, 25, 33, 58, 31, 29, 0, 29]\n",
      "Starting pair: (0, 30) -> Fibonacci Sequence: [0, 30, 30, 0, 30]\n",
      "Starting pair: (0, 32) -> Fibonacci Sequence: [0, 32, 32, 4, 36, 40, 16, 56, 12, 8, 20, 28, 48, 16, 4, 20, 24, 44, 8, 52, 0, 52, 52, 44, 36, 20, 56, 16, 12, 28, 40, 8, 48, 56, 44, 40, 24, 4, 28, 32, 0, 32]\n",
      "Starting pair: (0, 33) -> Fibonacci Sequence: [0, 33, 33, 6, 39, 45, 24, 9, 33, 42, 15, 57, 12, 9, 21, 30, 51, 21, 12, 33, 45, 18, 3, 21, 24, 45, 9, 54, 3, 57, 0, 57, 57, 54, 51, 45, 36, 21, 57, 18, 15, 33, 48, 21, 9, 30, 39, 9, 48, 57, 45, 42, 27, 9, 36, 45, 21, 6, 27, 33, 0, 33]\n",
      "Starting pair: (0, 35) -> Fibonacci Sequence: [0, 35, 35, 10, 45, 55, 40, 35, 15, 50, 5, 55, 0, 55, 55, 50, 45, 35, 20, 55, 15, 10, 25, 35, 0, 35]\n",
      "Starting pair: (0, 38) -> Fibonacci Sequence: [0, 38, 38, 16, 54, 10, 4, 14, 18, 32, 50, 22, 12, 34, 46, 20, 6, 26, 32, 58, 30, 28, 58, 26, 24, 50, 14, 4, 18, 22, 40, 2, 42, 44, 26, 10, 36, 46, 22, 8, 30, 38, 8, 46, 54, 40, 34, 14, 48, 2, 50, 52, 42, 34, 16, 50, 6, 56, 2, 58, 0, 58, 58, 56, 54, 50, 44, 34, 18, 52, 10, 2, 12, 14, 26, 40, 6, 46, 52, 38, 30, 8, 38, 46, 24, 10, 34, 44, 18, 2, 20, 22, 42, 4, 46, 50, 36, 26, 2, 28, 30, 58, 28, 26, 54, 20, 14, 34, 48, 22, 10, 32, 42, 14, 56, 10, 6, 16, 22, 38, 0, 38]\n",
      "Starting pair: (0, 39) -> Fibonacci Sequence: [0, 39, 39, 18, 57, 15, 12, 27, 39, 6, 45, 51, 36, 27, 3, 30, 33, 3, 36, 39, 15, 54, 9, 3, 12, 15, 27, 42, 9, 51, 0, 51, 51, 42, 33, 15, 48, 3, 51, 54, 45, 39, 24, 3, 27, 30, 57, 27, 24, 51, 15, 6, 21, 27, 48, 15, 3, 18, 21, 39, 0, 39]\n",
      "Starting pair: (0, 45) -> Fibonacci Sequence: [0, 45, 45, 30, 15, 45, 0, 45]\n",
      "Starting pair: (1, 3) -> Fibonacci Sequence: [1, 3, 4, 7, 11, 18, 29, 47, 16, 3, 19, 22, 41, 3, 44, 47, 31, 18, 49, 7, 56, 3, 59, 2, 1, 3]\n",
      "Starting pair: (1, 5) -> Fibonacci Sequence: [1, 5, 6, 11, 17, 28, 45, 13, 58, 11, 9, 20, 29, 49, 18, 7, 25, 32, 57, 29, 26, 55, 21, 16, 37, 53, 30, 23, 53, 16, 9, 25, 34, 59, 33, 32, 5, 37, 42, 19, 1, 20, 21, 41, 2, 43, 45, 28, 13, 41, 54, 35, 29, 4, 33, 37, 10, 47, 57, 44, 41, 25, 6, 31, 37, 8, 45, 53, 38, 31, 9, 40, 49, 29, 18, 47, 5, 52, 57, 49, 46, 35, 21, 56, 17, 13, 30, 43, 13, 56, 9, 5, 14, 19, 33, 52, 25, 17, 42, 59, 41, 40, 21, 1, 22, 23, 45, 8, 53, 1, 54, 55, 49, 44, 33, 17, 50, 7, 57, 4, 1, 5]\n",
      "Starting pair: (1, 6) -> Fibonacci Sequence: [1, 6, 7, 13, 20, 33, 53, 26, 19, 45, 4, 49, 53, 42, 35, 17, 52, 9, 1, 10, 11, 21, 32, 53, 25, 18, 43, 1, 44, 45, 29, 14, 43, 57, 40, 37, 17, 54, 11, 5, 16, 21, 37, 58, 35, 33, 8, 41, 49, 30, 19, 49, 8, 57, 5, 2, 7, 9, 16, 25, 41, 6, 47, 53, 40, 33, 13, 46, 59, 45, 44, 29, 13, 42, 55, 37, 32, 9, 41, 50, 31, 21, 52, 13, 5, 18, 23, 41, 4, 45, 49, 34, 23, 57, 20, 17, 37, 54, 31, 25, 56, 21, 17, 38, 55, 33, 28, 1, 29, 30, 59, 29, 28, 57, 25, 22, 47, 9, 56, 5, 1, 6]\n",
      "Starting pair: (1, 7) -> Fibonacci Sequence: [1, 7, 8, 15, 23, 38, 1, 39, 40, 19, 59, 18, 17, 35, 52, 27, 19, 46, 5, 51, 56, 47, 43, 30, 13, 43, 56, 39, 35, 14, 49, 3, 52, 55, 47, 42, 29, 11, 40, 51, 31, 22, 53, 15, 8, 23, 31, 54, 25, 19, 44, 3, 47, 50, 37, 27, 4, 31, 35, 6, 41, 47, 28, 15, 43, 58, 41, 39, 20, 59, 19, 18, 37, 55, 32, 27, 59, 26, 25, 51, 16, 7, 23, 30, 53, 23, 16, 39, 55, 34, 29, 3, 32, 35, 7, 42, 49, 31, 20, 51, 11, 2, 13, 15, 28, 43, 11, 54, 5, 59, 4, 3, 7, 10, 17, 27, 44, 11, 55, 6, 1, 7]\n",
      "Starting pair: (1, 8) -> Fibonacci Sequence: [1, 8, 9, 17, 26, 43, 9, 52, 1, 53, 54, 47, 41, 28, 9, 37, 46, 23, 9, 32, 41, 13, 54, 7, 1, 8]\n",
      "Starting pair: (1, 13) -> Fibonacci Sequence: [1, 13, 14, 27, 41, 8, 49, 57, 46, 43, 29, 12, 41, 53, 34, 27, 1, 28, 29, 57, 26, 23, 49, 12, 1, 13]\n",
      "Starting pair: (1, 15) -> Fibonacci Sequence: [1, 15, 16, 31, 47, 18, 5, 23, 28, 51, 19, 10, 29, 39, 8, 47, 55, 42, 37, 19, 56, 15, 11, 26, 37, 3, 40, 43, 23, 6, 29, 35, 4, 39, 43, 22, 5, 27, 32, 59, 31, 30, 1, 31, 32, 3, 35, 38, 13, 51, 4, 55, 59, 54, 53, 47, 40, 27, 7, 34, 41, 15, 56, 11, 7, 18, 25, 43, 8, 51, 59, 50, 49, 39, 28, 7, 35, 42, 17, 59, 16, 15, 31, 46, 17, 3, 20, 23, 43, 6, 49, 55, 44, 39, 23, 2, 25, 27, 52, 19, 11, 30, 41, 11, 52, 3, 55, 58, 53, 51, 44, 35, 19, 54, 13, 7, 20, 27, 47, 14, 1, 15]\n",
      "Starting pair: (1, 17) -> Fibonacci Sequence: [1, 17, 18, 35, 53, 28, 21, 49, 10, 59, 9, 8, 17, 25, 42, 7, 49, 56, 45, 41, 26, 7, 33, 40, 13, 53, 6, 59, 5, 4, 9, 13, 22, 35, 57, 32, 29, 1, 30, 31, 1, 32, 33, 5, 38, 43, 21, 4, 25, 29, 54, 23, 17, 40, 57, 37, 34, 11, 45, 56, 41, 37, 18, 55, 13, 8, 21, 29, 50, 19, 9, 28, 37, 5, 42, 47, 29, 16, 45, 1, 46, 47, 33, 20, 53, 13, 6, 19, 25, 44, 9, 53, 2, 55, 57, 52, 49, 41, 30, 11, 41, 52, 33, 25, 58, 23, 21, 44, 5, 49, 54, 43, 37, 20, 57, 17, 14, 31, 45, 16, 1, 17]\n",
      "Starting pair: (1, 18) -> Fibonacci Sequence: [1, 18, 19, 37, 56, 33, 29, 2, 31, 33, 4, 37, 41, 18, 59, 17, 16, 33, 49, 22, 11, 33, 44, 17, 1, 18]\n",
      "Starting pair: (1, 19) -> Fibonacci Sequence: [1, 19, 20, 39, 59, 38, 37, 15, 52, 7, 59, 6, 5, 11, 16, 27, 43, 10, 53, 3, 56, 59, 55, 54, 49, 43, 32, 15, 47, 2, 49, 51, 40, 31, 11, 42, 53, 35, 28, 3, 31, 34, 5, 39, 44, 23, 7, 30, 37, 7, 44, 51, 35, 26, 1, 27, 28, 55, 23, 18, 41, 59, 40, 39, 19, 58, 17, 15, 32, 47, 19, 6, 25, 31, 56, 27, 23, 50, 13, 3, 16, 19, 35, 54, 29, 23, 52, 15, 7, 22, 29, 51, 20, 11, 31, 42, 13, 55, 8, 3, 11, 14, 25, 39, 4, 43, 47, 30, 17, 47, 4, 51, 55, 46, 41, 27, 8, 35, 43, 18, 1, 19]\n",
      "Starting pair: (1, 23) -> Fibonacci Sequence: [1, 23, 24, 47, 11, 58, 9, 7, 16, 23, 39, 2, 41, 43, 24, 7, 31, 38, 9, 47, 56, 43, 39, 22, 1, 23]\n",
      "Starting pair: (1, 33) -> Fibonacci Sequence: [1, 33, 34, 7, 41, 48, 29, 17, 46, 3, 49, 52, 41, 33, 14, 47, 1, 48, 49, 37, 26, 3, 29, 32, 1, 33]\n",
      "Starting pair: (1, 34) -> Fibonacci Sequence: [1, 34, 35, 9, 44, 53, 37, 30, 7, 37, 44, 21, 5, 26, 31, 57, 28, 25, 53, 18, 11, 29, 40, 9, 49, 58, 47, 45, 32, 17, 49, 6, 55, 1, 56, 57, 53, 50, 43, 33, 16, 49, 5, 54, 59, 53, 52, 45, 37, 22, 59, 21, 20, 41, 1, 42, 43, 25, 8, 33, 41, 14, 55, 9, 4, 13, 17, 30, 47, 17, 4, 21, 25, 46, 11, 57, 8, 5, 13, 18, 31, 49, 20, 9, 29, 38, 7, 45, 52, 37, 29, 6, 35, 41, 16, 57, 13, 10, 23, 33, 56, 29, 25, 54, 19, 13, 32, 45, 17, 2, 19, 21, 40, 1, 41, 42, 23, 5, 28, 33, 1, 34]\n",
      "Starting pair: (1, 38) -> Fibonacci Sequence: [1, 38, 39, 17, 56, 13, 9, 22, 31, 53, 24, 17, 41, 58, 39, 37, 16, 53, 9, 2, 11, 13, 24, 37, 1, 38]\n",
      "Starting pair: (1, 43) -> Fibonacci Sequence: [1, 43, 44, 27, 11, 38, 49, 27, 16, 43, 59, 42, 41, 23, 4, 27, 31, 58, 29, 27, 56, 23, 19, 42, 1, 43]\n",
      "Starting pair: (1, 51) -> Fibonacci Sequence: [1, 51, 52, 43, 35, 18, 53, 11, 4, 15, 19, 34, 53, 27, 20, 47, 7, 54, 1, 55, 56, 51, 47, 38, 25, 3, 28, 31, 59, 30, 29, 59, 28, 27, 55, 22, 17, 39, 56, 35, 31, 6, 37, 43, 20, 3, 23, 26, 49, 15, 4, 19, 23, 42, 5, 47, 52, 39, 31, 10, 41, 51, 32, 23, 55, 18, 13, 31, 44, 15, 59, 14, 13, 27, 40, 7, 47, 54, 41, 35, 16, 51, 7, 58, 5, 3, 8, 11, 19, 30, 49, 19, 8, 27, 35, 2, 37, 39, 16, 55, 11, 6, 17, 23, 40, 3, 43, 46, 29, 15, 44, 59, 43, 42, 25, 7, 32, 39, 11, 50, 1, 51]\n",
      "Starting pair: (1, 58) -> Fibonacci Sequence: [1, 58, 59, 57, 56, 53, 49, 42, 31, 13, 44, 57, 41, 38, 19, 57, 16, 13, 29, 42, 11, 53, 4, 57, 1, 58]\n",
      "Starting pair: (2, 6) -> Fibonacci Sequence: [2, 6, 8, 14, 22, 36, 58, 34, 32, 6, 38, 44, 22, 6, 28, 34, 2, 36, 38, 14, 52, 6, 58, 4, 2, 6]\n",
      "Starting pair: (2, 16) -> Fibonacci Sequence: [2, 16, 18, 34, 52, 26, 18, 44, 2, 46, 48, 34, 22, 56, 18, 14, 32, 46, 18, 4, 22, 26, 48, 14, 2, 16]\n",
      "Starting pair: (2, 21) -> Fibonacci Sequence: [2, 21, 23, 44, 7, 51, 58, 49, 47, 36, 23, 59, 22, 21, 43, 4, 47, 51, 38, 29, 7, 36, 43, 19, 2, 21]\n",
      "Starting pair: (2, 26) -> Fibonacci Sequence: [2, 26, 28, 54, 22, 16, 38, 54, 32, 26, 58, 24, 22, 46, 8, 54, 2, 56, 58, 54, 52, 46, 38, 24, 2, 26]\n",
      "Starting pair: (2, 51) -> Fibonacci Sequence: [2, 51, 53, 44, 37, 21, 58, 19, 17, 36, 53, 29, 22, 51, 13, 4, 17, 21, 38, 59, 37, 36, 13, 49, 2, 51]\n",
      "Starting pair: (3, 9) -> Fibonacci Sequence: [3, 9, 12, 21, 33, 54, 27, 21, 48, 9, 57, 6, 3, 9]\n",
      "Starting pair: (3, 14) -> Fibonacci Sequence: [3, 14, 17, 31, 48, 19, 7, 26, 33, 59, 32, 31, 3, 34, 37, 11, 48, 59, 47, 46, 33, 19, 52, 11, 3, 14]\n",
      "Starting pair: (3, 24) -> Fibonacci Sequence: [3, 24, 27, 51, 18, 9, 27, 36, 3, 39, 42, 21, 3, 24]\n",
      "Starting pair: (3, 54) -> Fibonacci Sequence: [3, 54, 57, 51, 48, 39, 27, 6, 33, 39, 12, 51, 3, 54]\n",
      "Starting pair: (4, 12) -> Fibonacci Sequence: [4, 12, 16, 28, 44, 12, 56, 8, 4, 12]\n",
      "Starting pair: (4, 32) -> Fibonacci Sequence: [4, 32, 36, 8, 44, 52, 36, 28, 4, 32]\n",
      "Starting pair: (4, 42) -> Fibonacci Sequence: [4, 42, 46, 28, 14, 42, 56, 38, 34, 12, 46, 58, 44, 42, 26, 8, 34, 42, 16, 58, 14, 12, 26, 38, 4, 42]\n",
      "Starting pair: (4, 52) -> Fibonacci Sequence: [4, 52, 56, 48, 44, 32, 16, 48, 4, 52]\n",
      "Starting pair: (5, 15) -> Fibonacci Sequence: [5, 15, 20, 35, 55, 30, 25, 55, 20, 15, 35, 50, 25, 15, 40, 55, 35, 30, 5, 35, 40, 15, 55, 10, 5, 15]\n",
      "Starting pair: (5, 25) -> Fibonacci Sequence: [5, 25, 30, 55, 25, 20, 45, 5, 50, 55, 45, 40, 25, 5, 30, 35, 5, 40, 45, 25, 10, 35, 45, 20, 5, 25]\n",
      "Starting pair: (6, 13) -> Fibonacci Sequence: [6, 13, 19, 32, 51, 23, 14, 37, 51, 28, 19, 47, 6, 53, 59, 52, 51, 43, 34, 17, 51, 8, 59, 7, 6, 13]\n",
      "Starting pair: (6, 18) -> Fibonacci Sequence: [6, 18, 24, 42, 6, 48, 54, 42, 36, 18, 54, 12, 6, 18]\n",
      "Starting pair: (6, 23) -> Fibonacci Sequence: [6, 23, 29, 52, 21, 13, 34, 47, 21, 8, 29, 37, 6, 43, 49, 32, 21, 53, 14, 7, 21, 28, 49, 17, 6, 23]\n",
      "Starting pair: (7, 46) -> Fibonacci Sequence: [7, 46, 53, 39, 32, 11, 43, 54, 37, 31, 8, 39, 47, 26, 13, 39, 52, 31, 23, 54, 17, 11, 28, 39, 7, 46]\n",
      "Starting pair: (8, 19) -> Fibonacci Sequence: [8, 19, 27, 46, 13, 59, 12, 11, 23, 34, 57, 31, 28, 59, 27, 26, 53, 19, 12, 31, 43, 14, 57, 11, 8, 19]\n",
      "Starting pair: (8, 24) -> Fibonacci Sequence: [8, 24, 32, 56, 28, 24, 52, 16, 8, 24]\n",
      "Starting pair: (9, 42) -> Fibonacci Sequence: [9, 42, 51, 33, 24, 57, 21, 18, 39, 57, 36, 33, 9, 42]\n",
      "Starting pair: (12, 36) -> Fibonacci Sequence: [12, 36, 48, 24, 12, 36]\n"
     ]
    }
   ],
   "source": [
    "compute_bracelets_mod_n_not_verbose(60)"
   ]
  },
  {
   "cell_type": "markdown",
   "id": "a978b897-99b5-41d1-a632-d5374aa3a68e",
   "metadata": {},
   "source": [
    "So we can find the bracelets mod larger numbers like 60, but now we want to count them with a counter aswell!"
   ]
  },
  {
   "cell_type": "markdown",
   "id": "4da0bfee-4adc-472e-aecb-c21366697041",
   "metadata": {},
   "source": [
    "infact for counting them mod n for higher numbers, We would like to find how many bracelets there are mod n and nothing else, so lets build some code to do that"
   ]
  },
  {
   "cell_type": "code",
   "execution_count": 20,
   "id": "649b213f-0e34-40d8-87cb-755142a204ed",
   "metadata": {
    "tags": []
   },
   "outputs": [
    {
     "data": {
      "text/plain": [
       "([1, 3, 4, 7, 1, 8, 9, 7, 6, 3, 9, 2, 1, 3],\n",
       " {(1, 3),\n",
       "  (1, 8),\n",
       "  (2, 1),\n",
       "  (3, 4),\n",
       "  (3, 9),\n",
       "  (4, 7),\n",
       "  (6, 3),\n",
       "  (7, 1),\n",
       "  (7, 6),\n",
       "  (8, 9),\n",
       "  (9, 2),\n",
       "  (9, 7)})"
      ]
     },
     "execution_count": 20,
     "metadata": {},
     "output_type": "execute_result"
    }
   ],
   "source": [
    "#Firstly, we can remake fibonacci_mod_n_with_pairs_multiple slightly more efficiently beforehand:\n",
    "\n",
    "def fibonacci_mod_n_efficient(a, b, n):\n",
    "\n",
    "    #remaining_pairs = {(i, j) for i in range(n) for j in range(n)} dont need to track remaining pairs to compute faster\n",
    "    fibonacci_sequence = [a % n, b % n]\n",
    "    seen_pairs = set()\n",
    "    seen_pairs.add((fibonacci_sequence[-2], fibonacci_sequence[-1]))\n",
    "    #remaining_pairs.remove((fibonacci_sequence[-2], fibonacci_sequence[-1]))\n",
    "\n",
    "    while True:\n",
    "        next_number = (fibonacci_sequence[-1] + fibonacci_sequence[-2]) % n\n",
    "        next_pair = (fibonacci_sequence[-1], next_number)\n",
    "        fibonacci_sequence.append(next_number)\n",
    "        #if next_pair in remaining_pairs:\n",
    "            #remaining_pairs.remove(next_pair)\n",
    "            \n",
    "        if next_pair in seen_pairs:\n",
    "            break\n",
    "        \n",
    "        seen_pairs.add(next_pair)\n",
    "    \n",
    "    return fibonacci_sequence, seen_pairs\n",
    "\n",
    "\n",
    "#test:\n",
    "fibonacci_mod_n_efficient(1,3,10)"
   ]
  },
  {
   "cell_type": "code",
   "execution_count": 21,
   "id": "7b9b1fa6-fc5a-4f1d-a6fc-f1325dd470aa",
   "metadata": {
    "tags": []
   },
   "outputs": [
    {
     "name": "stdout",
     "output_type": "stream",
     "text": [
      "Starting pair: (0, 0) -> Fibonacci Sequence: [0, 0, 0] -> Total seen: {(0, 0)}\n",
      "Starting pair: (0, 1) -> Fibonacci Sequence: [0, 1, 1, 2, 3, 5, 8, 3, 1, 4, 5, 9, 4, 3, 7, 0, 7, 7, 4, 1, 5, 6, 1, 7, 8, 5, 3, 8, 1, 9, 0, 9, 9, 8, 7, 5, 2, 7, 9, 6, 5, 1, 6, 7, 3, 0, 3, 3, 6, 9, 5, 4, 9, 3, 2, 5, 7, 2, 9, 1, 0, 1] -> Total seen: {(4, 3), (3, 1), (3, 7), (5, 4), (4, 9), (5, 1), (5, 7), (9, 5), (8, 3), (9, 8), (1, 0), (1, 6), (2, 5), (1, 9), (7, 4), (7, 7), (6, 5), (3, 0), (4, 5), (3, 3), (5, 6), (3, 6), (5, 3), (5, 9), (9, 1), (8, 5), (9, 4), (0, 1), (0, 7), (1, 2), (2, 7), (1, 5), (6, 1), (7, 0), (7, 3), (7, 9), (6, 7), (3, 2), (4, 1), (3, 5), (5, 2), (3, 8), (9, 0), (9, 3), (0, 0), (5, 8), (8, 1), (9, 9), (1, 1), (8, 7), (0, 9), (9, 6), (1, 4), (0, 3), (2, 3), (2, 9), (1, 7), (7, 2), (7, 5), (6, 9), (7, 8)}\n",
      "Starting pair: (0, 2) -> Fibonacci Sequence: [0, 2, 2, 4, 6, 0, 6, 6, 2, 8, 0, 8, 8, 6, 4, 0, 4, 4, 8, 2, 0, 2] -> Total seen: {(4, 0), (4, 9), (3, 7), (5, 4), (4, 6), (5, 1), (8, 0), (9, 8), (8, 6), (2, 2), (1, 0), (1, 9), (2, 8), (7, 4), (6, 2), (3, 0), (5, 6), (4, 8), (3, 6), (5, 3), (8, 2), (9, 1), (0, 7), (8, 8), (1, 2), (2, 4), (0, 4), (6, 4), (7, 3), (3, 2), (4, 1), (3, 8), (9, 3), (0, 0), (8, 1), (0, 9), (1, 4), (0, 6), (2, 3), (6, 6), (7, 5), (4, 3), (3, 1), (5, 7), (9, 5), (8, 3), (0, 2), (1, 6), (0, 8), (2, 5), (7, 7), (6, 5), (4, 5), (3, 3), (5, 9), (8, 5), (9, 4), (0, 1), (2, 7), (1, 5), (6, 1), (7, 0), (7, 9), (6, 7), (3, 5), (5, 2), (4, 4), (9, 0), (5, 8), (9, 9), (8, 7), (1, 1), (9, 6), (0, 3), (2, 0), (2, 9), (1, 7), (7, 2), (6, 0), (6, 9), (7, 8)}\n",
      "Starting pair: (0, 5) -> Fibonacci Sequence: [0, 5, 5, 0, 5] -> Total seen: {(4, 0), (4, 9), (3, 7), (5, 4), (4, 6), (5, 1), (8, 0), (9, 8), (8, 6), (2, 2), (1, 0), (0, 5), (1, 9), (2, 8), (7, 4), (6, 2), (3, 0), (5, 6), (4, 8), (3, 6), (5, 3), (8, 2), (9, 1), (0, 7), (8, 8), (1, 2), (2, 4), (0, 4), (6, 4), (7, 3), (3, 2), (4, 1), (3, 8), (5, 5), (9, 3), (0, 0), (8, 1), (0, 9), (1, 4), (0, 6), (2, 3), (6, 6), (7, 5), (4, 3), (3, 1), (5, 7), (9, 5), (8, 3), (0, 2), (1, 6), (0, 8), (2, 5), (7, 7), (6, 5), (4, 5), (3, 3), (5, 0), (5, 9), (8, 5), (9, 4), (0, 1), (2, 7), (1, 5), (6, 1), (7, 0), (7, 9), (6, 7), (3, 5), (5, 2), (4, 4), (9, 0), (5, 8), (9, 9), (8, 7), (1, 1), (9, 6), (0, 3), (2, 0), (2, 9), (1, 7), (7, 2), (6, 0), (6, 9), (7, 8)}\n",
      "Starting pair: (1, 3) -> Fibonacci Sequence: [1, 3, 4, 7, 1, 8, 9, 7, 6, 3, 9, 2, 1, 3] -> Total seen: {(4, 0), (4, 9), (3, 7), (5, 4), (4, 6), (5, 1), (8, 0), (9, 2), (8, 9), (9, 8), (8, 6), (2, 2), (1, 0), (0, 5), (1, 9), (2, 8), (7, 4), (6, 2), (7, 1), (3, 0), (3, 9), (5, 6), (4, 8), (3, 6), (5, 3), (8, 2), (9, 1), (0, 7), (8, 8), (1, 2), (2, 4), (0, 4), (2, 1), (1, 8), (6, 4), (7, 3), (3, 2), (4, 1), (3, 8), (5, 5), (9, 3), (0, 0), (8, 1), (0, 9), (1, 4), (0, 6), (2, 3), (6, 6), (7, 5), (6, 3), (3, 4), (4, 3), (3, 1), (5, 7), (9, 5), (8, 3), (0, 2), (1, 6), (0, 8), (2, 5), (1, 3), (7, 7), (6, 5), (4, 5), (3, 3), (5, 0), (5, 9), (9, 7), (8, 5), (9, 4), (0, 1), (2, 7), (1, 5), (6, 1), (7, 0), (7, 9), (6, 7), (7, 6), (4, 7), (3, 5), (5, 2), (4, 4), (9, 0), (5, 8), (9, 9), (8, 7), (1, 1), (9, 6), (0, 3), (2, 0), (2, 9), (1, 7), (7, 2), (6, 0), (6, 9), (7, 8)}\n",
      "Starting pair: (2, 6) -> Fibonacci Sequence: [2, 6, 8, 4, 2, 6] -> Total seen: {(4, 0), (4, 9), (3, 7), (5, 4), (4, 6), (5, 1), (8, 0), (9, 2), (8, 9), (9, 8), (8, 6), (2, 2), (1, 0), (0, 5), (1, 9), (2, 8), (7, 4), (6, 2), (7, 1), (6, 8), (4, 2), (3, 0), (3, 9), (5, 6), (4, 8), (3, 6), (5, 3), (8, 2), (9, 1), (0, 7), (8, 8), (1, 2), (2, 4), (0, 4), (2, 1), (1, 8), (6, 4), (7, 3), (3, 2), (4, 1), (3, 8), (5, 5), (8, 4), (9, 3), (0, 0), (8, 1), (0, 9), (1, 4), (0, 6), (2, 3), (6, 6), (7, 5), (6, 3), (3, 4), (4, 3), (3, 1), (5, 7), (9, 5), (8, 3), (0, 2), (1, 6), (0, 8), (2, 5), (1, 3), (7, 7), (6, 5), (4, 5), (3, 3), (5, 0), (5, 9), (9, 7), (8, 5), (9, 4), (0, 1), (2, 7), (1, 5), (6, 1), (7, 0), (7, 9), (6, 7), (7, 6), (4, 7), (3, 5), (5, 2), (4, 4), (9, 0), (5, 8), (9, 9), (8, 7), (1, 1), (9, 6), (0, 3), (2, 0), (2, 9), (1, 7), (2, 6), (7, 2), (6, 0), (6, 9), (7, 8)}\n",
      "Number of bracelets is 6\n"
     ]
    }
   ],
   "source": [
    "#simple counter for one n before looping through n\n",
    "n=10\n",
    "total_pairs = [(i,j) for i in range(n) for j in range(n)]\n",
    "total_seen_pairs = set()\n",
    "#total_remaining_pairs_initialise = {(i,j) for i in range(n) for j in range(n)}\n",
    "counter = 0\n",
    "\n",
    "for a,b in total_pairs:\n",
    "    if (a,b) not in total_seen_pairs:\n",
    "        fibonacci_sequence, seen_pairs = fibonacci_mod_n_efficient(a, b,n)\n",
    "        total_seen_pairs.update(seen_pairs)\n",
    "        #total_remaining_pairs = total_remaining_pairs_initialise.difference(total_seen_pairs)\n",
    "        counter +=1\n",
    "        print(f\"Starting pair: ({a}, {b}) -> Fibonacci Sequence: {fibonacci_sequence} -> Total seen: {total_seen_pairs}\")\n",
    "        \n",
    "print(\"Number of bracelets is\", counter)"
   ]
  },
  {
   "cell_type": "markdown",
   "id": "35a12988-768a-4892-84c7-45d5f8bd6973",
   "metadata": {},
   "source": [
    "passes check, now lets loop through n and track number of bracelets"
   ]
  },
  {
   "cell_type": "code",
   "execution_count": 22,
   "id": "7f2f9526-565f-4901-9ac2-67ba90a3760d",
   "metadata": {
    "tags": []
   },
   "outputs": [
    {
     "name": "stdout",
     "output_type": "stream",
     "text": [
      "[ 0.  1.  2.  2.  4.  3.  4.  4.  8.  5.  6. 14. 10.  7.  8. 12. 16.  9.\n",
      " 16. 22. 16. 29. 28. 12. 30. 13. 14. 14. 22. 63.]\n",
      "Number of Bracelets mod 10 is 6.0\n"
     ]
    }
   ],
   "source": [
    "def Bracelets_mod_n_list(m):\n",
    "    #compute number of bracelets mod n for n=1,...,m\n",
    "    counter_list = np.zeros(m)\n",
    "    for n in range(m):\n",
    "        total_pairs = [(i,j) for i in range(n) for j in range(n)]\n",
    "        total_seen_pairs = set()\n",
    "        #total_remaining_pairs_initialise = {(i,j) for i in range(n) for j in range(n)}\n",
    "        counter = 0\n",
    "\n",
    "        for a,b in total_pairs:\n",
    "            if (a,b) not in total_seen_pairs:\n",
    "                fibonacci_sequence, seen_pairs = fibonacci_mod_n_efficient(a, b,n)\n",
    "                total_seen_pairs.update(seen_pairs)\n",
    "                #total_remaining_pairs = total_remaining_pairs_initialise.difference(total_seen_pairs)\n",
    "                counter +=1\n",
    "        #print(counter)\n",
    "        counter_list[n] = counter\n",
    "        #print(counter_list)\n",
    "    return counter_list\n",
    "    \n",
    "print(Bracelets_mod_n_list(30))\n",
    "print(\"Number of Bracelets mod 10 is\", Bracelets_mod_n_list(30)[10])"
   ]
  },
  {
   "cell_type": "markdown",
   "id": "b53367d0-197d-464e-b255-4ada93f0a0d7",
   "metadata": {},
   "source": [
    "As we can see for mod 10 we get 6 bracelets as expected!"
   ]
  },
  {
   "cell_type": "code",
   "execution_count": 23,
   "id": "08a570a5-abf2-4c21-82a6-bdfa4b8b51ac",
   "metadata": {
    "tags": []
   },
   "outputs": [
    {
     "name": "stdout",
     "output_type": "stream",
     "text": [
      "[0.000e+00 1.000e+00 2.000e+00 2.000e+00 4.000e+00 3.000e+00 4.000e+00\n",
      " 4.000e+00 8.000e+00 5.000e+00 6.000e+00 1.400e+01 1.000e+01 7.000e+00\n",
      " 8.000e+00 1.200e+01 1.600e+01 9.000e+00 1.600e+01 2.200e+01 1.600e+01\n",
      " 2.900e+01 2.800e+01 1.200e+01 3.000e+01 1.300e+01 1.400e+01 1.400e+01\n",
      " 2.200e+01 6.300e+01 2.400e+01 3.400e+01 3.200e+01 3.900e+01 3.400e+01\n",
      " 3.000e+01 5.800e+01 1.900e+01 8.600e+01 3.200e+01 5.200e+01 4.300e+01\n",
      " 5.800e+01 2.200e+01 7.800e+01 3.900e+01 4.600e+01 7.000e+01 1.020e+02\n",
      " 2.500e+01 2.600e+01 4.200e+01 4.000e+01 2.700e+01 5.200e+01 1.600e+02\n",
      " 7.400e+01 6.300e+01 1.260e+02 6.200e+01 7.000e+01 6.300e+01 1.340e+02\n",
      " 1.040e+02 6.400e+01 5.700e+01 7.800e+01 3.400e+01 1.320e+02 1.010e+02\n",
      " 6.000e+01 7.400e+01 2.220e+02 3.700e+01 3.800e+01 6.200e+01 3.280e+02\n",
      " 8.900e+01 6.400e+01 8.200e+01 1.240e+02 4.100e+01 8.600e+01 4.200e+01\n",
      " 1.720e+02 7.500e+01 4.400e+01 1.840e+02 1.780e+02 1.810e+02 1.320e+02\n",
      " 8.200e+01 1.800e+02 9.900e+01 1.400e+02 1.040e+02 2.460e+02 4.900e+01\n",
      " 5.000e+01 1.140e+02 7.600e+01 2.070e+02 1.640e+02 5.200e+01 1.400e+02\n",
      " 2.550e+02 1.060e+02 1.600e+02 2.020e+02 1.110e+02 3.200e+02 9.200e+01\n",
      " 2.740e+02 1.690e+02 2.480e+02 1.020e+02 3.680e+02 1.070e+02 1.240e+02\n",
      " 1.080e+02 2.500e+02 1.470e+02 2.500e+02 3.800e+02 5.200e+02 6.300e+01\n",
      " 3.580e+02 6.400e+01 1.280e+02 1.910e+02 1.140e+02 1.340e+02 2.280e+02\n",
      " 1.450e+02 6.800e+01 1.200e+02 5.200e+02 6.900e+01 4.000e+02 4.240e+02\n",
      " 1.780e+02 6.230e+02 1.480e+02 1.640e+02 8.700e+02 3.050e+02 7.400e+01\n",
      " 2.180e+02 1.120e+02 1.510e+02 1.240e+02 4.600e+02 8.120e+02 3.330e+02\n",
      " 1.780e+02 4.200e+02 1.900e+02 7.900e+01 3.260e+02 1.320e+02 2.680e+02\n",
      " 5.430e+02 1.600e+02 8.200e+01 2.560e+02 7.690e+02 1.660e+02 8.400e+01\n",
      " 6.240e+02 8.500e+01 2.940e+02 4.260e+02 1.300e+02 8.700e+01 3.680e+02\n",
      " 1.600e+02 3.780e+02 1.830e+02 3.620e+02 1.820e+02 5.020e+02 3.670e+02\n",
      " 1.640e+02 3.120e+02 7.120e+02 1.650e+02 3.920e+02 2.140e+02 4.180e+02\n",
      " 3.290e+02 4.100e+02 1.940e+02 5.340e+02 9.700e+01 9.800e+01 2.820e+02\n",
      " 1.480e+02 9.900e+01 3.780e+02 1.810e+03 2.720e+02 2.990e+02 4.140e+02\n",
      " 4.260e+02 6.500e+02 1.053e+03 1.040e+02 8.960e+02 3.400e+02 5.170e+02\n",
      " 5.100e+02 1.066e+03 4.200e+02 2.190e+02 6.380e+02 1.920e+02 7.980e+02\n",
      " 2.290e+02 4.420e+02 1.820e+02 9.540e+02 2.070e+02 1.840e+02 1.120e+02\n",
      " 1.058e+03 2.090e+02 3.380e+02 1.140e+02 9.740e+02 4.630e+02 4.020e+02\n",
      " 7.140e+02 8.520e+02 1.045e+03 3.640e+02 6.240e+02 3.660e+02 2.430e+02\n",
      " 4.240e+02 2.420e+02 8.980e+02 2.430e+02 2.940e+02 1.220e+02 9.960e+02\n",
      " 2.190e+02 7.600e+02 2.680e+02 1.292e+03 3.710e+02 1.260e+02 2.540e+02\n",
      " 1.372e+03 2.890e+02 1.280e+02 3.720e+02 2.560e+02 1.290e+02 3.820e+02\n",
      " 2.380e+02 3.400e+02 5.470e+02 2.680e+02 3.940e+02 7.280e+02 2.370e+02\n",
      " 5.720e+02 9.020e+02 2.020e+02 2.710e+02 4.560e+02 2.740e+02 1.296e+03\n",
      " 7.070e+02 2.740e+02 1.370e+03 1.594e+03 1.390e+02 8.480e+02 6.780e+02\n",
      " 6.460e+02 1.411e+03 1.246e+03 1.420e+02 4.380e+02 4.730e+02 3.280e+02\n",
      " 1.054e+03 2.166e+03 1.450e+02 6.100e+02 2.420e+02 2.200e+02 1.470e+02\n",
      " 4.360e+02 3.040e+02 4.040e+02 3.390e+02 3.020e+02 2.820e+02 3.700e+02\n",
      " 5.290e+02 9.200e+02 6.160e+02 1.780e+03 1.553e+03 1.328e+03 1.072e+03\n",
      " 5.280e+02 4.610e+02 1.674e+03 3.140e+02 6.900e+02 1.570e+02 1.580e+02\n",
      " 9.300e+02 1.288e+03 1.590e+02 5.240e+02 1.520e+03 5.560e+02 1.433e+03\n",
      " 2.164e+03 2.910e+03 6.340e+02 3.070e+02 1.640e+02 5.520e+02 9.320e+02\n",
      " 3.385e+03 1.538e+03 1.000e+03 6.600e+02 3.110e+02 3.340e+02 3.000e+02\n",
      " 2.424e+03 1.690e+02 1.700e+02 8.420e+02 1.168e+03 3.897e+03 1.700e+03\n",
      " 1.720e+02 4.700e+02 9.030e+02 3.460e+02 5.200e+02 1.094e+03 7.030e+02\n",
      " 3.200e+02 3.320e+02 7.780e+02 5.290e+02 3.660e+02 9.400e+02 1.084e+03\n",
      " 9.330e+02 3.640e+02 3.620e+02 1.978e+03 4.030e+02 1.466e+03 4.360e+02\n",
      " 4.900e+02 3.270e+02 1.244e+03 1.840e+02 2.832e+03 1.391e+03 3.300e+02\n",
      " 3.420e+02 1.550e+03 1.870e+02 8.280e+02 3.120e+02 1.526e+03 5.109e+03\n",
      " 1.258e+03 3.820e+02 1.620e+03 5.690e+02 3.880e+02 1.920e+02 1.110e+03\n",
      " 1.987e+03 1.940e+02 6.980e+02 2.920e+02 3.910e+02 5.640e+02 1.076e+03\n",
      " 5.360e+02 3.990e+02 3.940e+02 4.040e+02 1.428e+03 1.990e+02 3.620e+03\n",
      " 1.170e+03]\n"
     ]
    }
   ],
   "source": [
    "print(Bracelets_mod_n_list(400))"
   ]
  },
  {
   "cell_type": "code",
   "execution_count": 24,
   "id": "b36e248b-ead5-492c-acd4-dc314aa2928e",
   "metadata": {
    "tags": []
   },
   "outputs": [
    {
     "data": {
      "image/png": "[encoded data removed]",
      "text/plain": [
       "<Figure size 640x480 with 1 Axes>"
      ]
     },
     "metadata": {},
     "output_type": "display_data"
    }
   ],
   "source": [
    "#Plotting Bracelets mod n against n:\n",
    "m= 1200\n",
    "counter_list = Bracelets_mod_n_list(m)\n",
    "\n",
    "\n",
    "x = np.arange(0,m) \n",
    "y = counter_list  \n",
    "\n",
    "# Plotting the graph\n",
    "plt.scatter(x, y, marker='o', color='b')\n",
    "\n",
    "# Adding labels and a title\n",
    "plt.xlabel('N')\n",
    "plt.ylabel('Bracelets Mod N')\n",
    "plt.title('Number of Bracelets Mod N')\n",
    "\n",
    "\n",
    "\n",
    "# Display the plot\n",
    "plt.grid(True) \n",
    "plt.show()\n"
   ]
  },
  {
   "cell_type": "code",
   "execution_count": 25,
   "id": "0a425792-f471-4f3a-b73e-98f7a3684a11",
   "metadata": {
    "tags": []
   },
   "outputs": [
    {
     "data": {
      "image/png": "[encoded data removed]",
      "text/plain": [
       "<Figure size 640x480 with 1 Axes>"
      ]
     },
     "metadata": {},
     "output_type": "display_data"
    }
   ],
   "source": [
    "def func_linear(x): return 2*x #I tried a few functions in a seperate file and 2x worked the best\n",
    "x = np.arange(0,m) \n",
    "y = counter_list  \n",
    "\n",
    "# Plotting the graph\n",
    "plt.scatter(x, y, marker='o', color='b')\n",
    "plt.plot(x, func_linear(x), label='Linear', linestyle='--', color = 'r')\n",
    "\n",
    "# Adding labels and a title\n",
    "plt.xlabel('N')\n",
    "plt.ylabel('Bracelets Mod N')\n",
    "plt.title('Number of Bracelets Mod N')\n",
    "\n",
    "\n",
    "\n",
    "# Display the plot\n",
    "plt.grid(True) \n",
    "plt.show()\n",
    "\n"
   ]
  },
  {
   "cell_type": "code",
   "execution_count": 26,
   "id": "9c065d83-d982-485c-ba12-925b74e2711c",
   "metadata": {
    "tags": []
   },
   "outputs": [],
   "source": [
    "#Another guess I had is that worked somehwat that this may follow the famous pi(x) distribution from the prime number theorem, this also worked somewhat but appeared to be a slight undershoot."
   ]
  },
  {
   "cell_type": "code",
   "execution_count": 27,
   "id": "04dd0d86-2d5c-44ea-8550-0873bf2e1117",
   "metadata": {
    "tags": []
   },
   "outputs": [
    {
     "name": "stderr",
     "output_type": "stream",
     "text": [
      "C:\\Users\\jamie\\AppData\\Local\\Temp\\ipykernel_20284\\2253513779.py:2: RuntimeWarning: divide by zero encountered in divide\n",
      "  def func_pi(x): return x+1/np.log(x+1) #including +1 so no log(0) error\n"
     ]
    },
    {
     "data": {
      "image/png": "[encoded data removed]",
      "text/plain": [
       "<Figure size 640x480 with 1 Axes>"
      ]
     },
     "metadata": {},
     "output_type": "display_data"
    }
   ],
   "source": [
    "#just for completeeness showing here it is vs N/logN\n",
    "def func_pi(x): return x+1/np.log(x+1) #including +1 so no log(0) error\n",
    "x = np.arange(0,m) \n",
    "y = counter_list \n",
    "\n",
    "\n",
    "# Plotting the graph\n",
    "plt.scatter(x, y, marker='o', color='b')\n",
    "plt.plot(x, func_linear(x), label='Linear:  y = 2N', linestyle='--', color = 'r')\n",
    "plt.plot(x, func_pi(x), label='Pi(N) = N/Log(N)', linestyle='--', color = 'lime')\n",
    "\n",
    "# Adding labels and a title\n",
    "plt.xlabel('N')\n",
    "plt.ylabel('Bracelets Mod N')\n",
    "plt.title('Number of Bracelets Mod N')\n",
    "\n",
    "\n",
    "\n",
    "# Display the plot\n",
    "plt.legend(loc='upper left', fontsize='small')\n",
    "plt.grid(True)  \n",
    "plt.show()\n",
    "\n"
   ]
  },
  {
   "cell_type": "code",
   "execution_count": 28,
   "id": "b9a1e3f8-4e74-470b-ab97-8e046eac7a4a",
   "metadata": {
    "tags": []
   },
   "outputs": [
    {
     "name": "stderr",
     "output_type": "stream",
     "text": [
      "C:\\Users\\jamie\\AppData\\Local\\Temp\\ipykernel_20284\\2736485602.py:2: RuntimeWarning: divide by zero encountered in divide\n",
      "  def func_pi(x): return x+1/np.log(x+1) #including +1 so no log(0) error\n",
      "C:\\Users\\jamie\\AppData\\Local\\Temp\\ipykernel_20284\\2736485602.py:3: RuntimeWarning: divide by zero encountered in log\n",
      "  def func_xlogx(x): return x*np.log(x) #another function to try\n",
      "C:\\Users\\jamie\\AppData\\Local\\Temp\\ipykernel_20284\\2736485602.py:3: RuntimeWarning: invalid value encountered in multiply\n",
      "  def func_xlogx(x): return x*np.log(x) #another function to try\n"
     ]
    },
    {
     "data": {
      "image/png": "[encoded data removed]",
      "text/plain": [
       "<Figure size 640x480 with 1 Axes>"
      ]
     },
     "metadata": {},
     "output_type": "display_data"
    }
   ],
   "source": [
    "#just for completeeness showing here it is vs N/logN\n",
    "def func_pi(x): return x+1/np.log(x+1) #including +1 so no log(0) error\n",
    "def func_xlogx(x): return x*np.log(x) #another function to try\n",
    "x = np.arange(0,m) \n",
    "y = counter_list \n",
    "\n",
    "\n",
    "# Plotting the graph\n",
    "plt.scatter(x, y, marker='o', color='b')\n",
    "plt.plot(x, func_linear(x), label='Linear:  y = 2N', linestyle='--', color = 'r')\n",
    "plt.plot(x, func_pi(x), label='Pi(N) = N/Log(N)', linestyle='--', color = 'w')\n",
    "plt.plot(x, func_xlogx(x), label='Pi(N) = NLog(N)', linestyle='--', color = 'lime')\n",
    "\n",
    "# Adding labels and a title\n",
    "plt.xlabel('N')\n",
    "plt.ylabel('Bracelets Mod N')\n",
    "plt.title('Number of Bracelets Mod N')\n",
    "\n",
    "\n",
    "\n",
    "# Display the plot\n",
    "plt.legend(loc='upper left', fontsize='small')\n",
    "plt.grid(True)  \n",
    "plt.show()\n",
    "\n",
    "\n"
   ]
  },
  {
   "cell_type": "code",
   "execution_count": 29,
   "id": "4c23f1a8-8192-4606-b7ac-7ee12bf5a40f",
   "metadata": {
    "tags": []
   },
   "outputs": [],
   "source": [
    "#interestingly, some numbers N which are sparcely populated have many more # bracelets than usual, which N are they?"
   ]
  },
  {
   "cell_type": "code",
   "execution_count": 30,
   "id": "934d175c-ff5b-4907-879e-63ccfce3458a",
   "metadata": {
    "tags": []
   },
   "outputs": [
    {
     "data": {
      "text/plain": [
       "array([  0.,   1.,   2.,   2.,   4.,   3.,   4.,   4.,   8.,   5.,   6.,\n",
       "        14.,  10.,   7.,   8.,  12.,  16.,   9.,  16.,  22.,  16.,  29.,\n",
       "        28.,  12.,  30.,  13.,  14.,  14.,  22.,  63.,  24.,  34.,  32.,\n",
       "        39.,  34.,  30.,  58.,  19.,  86.,  32.,  52.,  43.,  58.,  22.,\n",
       "        78.,  39.,  46.,  70., 102.,  25.,  26.,  42.,  40.,  27.,  52.,\n",
       "       160.,  74.,  63., 126.,  62.,  70.,  63., 134., 104.,  64.,  57.,\n",
       "        78.,  34., 132., 101.,  60.,  74., 222.,  37.,  38.,  62., 328.,\n",
       "        89.,  64.,  82., 124.,  41.,  86.,  42., 172.,  75.,  44., 184.,\n",
       "       178., 181., 132.,  82., 180.,  99., 140., 104., 246.,  49.,  50.,\n",
       "       114.])"
      ]
     },
     "execution_count": 30,
     "metadata": {},
     "output_type": "execute_result"
    }
   ],
   "source": [
    "Bracelets_mod_n_list(100)"
   ]
  },
  {
   "cell_type": "code",
   "execution_count": 31,
   "id": "820f3250-1833-45fb-8351-35db97cca512",
   "metadata": {
    "tags": []
   },
   "outputs": [],
   "source": [
    "#we see the 328 jumps out as quite large "
   ]
  },
  {
   "cell_type": "code",
   "execution_count": 32,
   "id": "ca35a287-4ef6-4755-a649-53852d2f687c",
   "metadata": {
    "tags": []
   },
   "outputs": [
    {
     "data": {
      "text/plain": [
       "184.0"
      ]
     },
     "execution_count": 32,
     "metadata": {},
     "output_type": "execute_result"
    }
   ],
   "source": [
    "Bracelets_mod_n_list(100)[87] #mod 87 there are 184 bracelets"
   ]
  },
  {
   "cell_type": "code",
   "execution_count": 33,
   "id": "de2cccc4-1765-4cee-b66a-bebf2c0e0ada",
   "metadata": {
    "tags": []
   },
   "outputs": [
    {
     "data": {
      "text/plain": [
       "array([  0.,   1.,   2.,   2.,   4.,   3.,   4.,   4.,   8.,   5.,   6.,\n",
       "        14.,  10.,   7.,   8.,  12.,  16.,   9.,  16.,  22.,  16.,  29.,\n",
       "        28.,  12.,  30.,  13.,  14.,  14.,  22.,  63.,  24.,  34.,  32.,\n",
       "        39.,  34.,  30.,  58.,  19.,  86.,  32.,  52.,  43.,  58.,  22.,\n",
       "        78.,  39.,  46.,  70., 102.,  25.,  26.,  42.,  40.,  27.,  52.,\n",
       "       160.,  74.,  63., 126.,  62.,  70.,  63., 134., 104.,  64.,  57.,\n",
       "        78.,  34., 132., 101.,  60.,  74., 222.,  37.,  38.,  62., 328.,\n",
       "        89.,  64.,  82., 124.,  41.,  86.,  42., 172.,  75.,  44., 184.,\n",
       "       178., 181., 132.,  82., 180.,  99., 140., 104., 246.,  49.,  50.,\n",
       "       114.,  76., 207., 164.,  52., 140., 255., 106., 160., 202., 111.,\n",
       "       320.,  92., 274., 169., 248., 102., 368., 107., 124., 108., 250.,\n",
       "       147., 250., 380., 520.,  63., 358.,  64., 128., 191., 114., 134.,\n",
       "       228., 145.,  68., 120., 520.,  69., 400., 424., 178., 623., 148.,\n",
       "       164., 870., 305.,  74., 218., 112., 151.])"
      ]
     },
     "execution_count": 33,
     "metadata": {},
     "output_type": "execute_result"
    }
   ],
   "source": [
    "Bracelets_mod_n_list(150)"
   ]
  },
  {
   "cell_type": "code",
   "execution_count": 34,
   "id": "fd6ad479-45fc-4cbe-97a9-1e6412c2e940",
   "metadata": {
    "tags": []
   },
   "outputs": [],
   "source": [
    "#520, 623 and 870 jump out as quite large"
   ]
  },
  {
   "cell_type": "code",
   "execution_count": 35,
   "id": "fb3ae96f-1b9b-4370-9a24-c5d53ffa9c3f",
   "metadata": {
    "tags": []
   },
   "outputs": [
    {
     "data": {
      "text/plain": [
       "870.0"
      ]
     },
     "execution_count": 35,
     "metadata": {},
     "output_type": "execute_result"
    }
   ],
   "source": [
    "Bracelets_mod_n_list(150)[144] #144 is 12 squared"
   ]
  },
  {
   "cell_type": "code",
   "execution_count": 36,
   "id": "ca07deaa-9920-486b-8447-e052233e6698",
   "metadata": {
    "tags": []
   },
   "outputs": [
    {
     "data": {
      "text/plain": [
       "623.0"
      ]
     },
     "execution_count": 36,
     "metadata": {},
     "output_type": "execute_result"
    }
   ],
   "source": [
    "Bracelets_mod_n_list(150)[141] #141 isnt prime"
   ]
  },
  {
   "cell_type": "code",
   "execution_count": 37,
   "id": "ae6a9fb5-6abd-4068-9927-9e685fd66b3a",
   "metadata": {
    "tags": []
   },
   "outputs": [
    {
     "data": {
      "text/plain": [
       "520.0"
      ]
     },
     "execution_count": 37,
     "metadata": {},
     "output_type": "execute_result"
    }
   ],
   "source": [
    "Bracelets_mod_n_list(150)[136] #not prime"
   ]
  },
  {
   "cell_type": "code",
   "execution_count": 38,
   "id": "0bd5e6e0-b006-4bdf-86d2-239c7106747c",
   "metadata": {
    "tags": []
   },
   "outputs": [
    {
     "data": {
      "text/plain": [
       "array([0.00e+00, 1.00e+00, 2.00e+00, 2.00e+00, 4.00e+00, 3.00e+00,\n",
       "       4.00e+00, 4.00e+00, 8.00e+00, 5.00e+00, 6.00e+00, 1.40e+01,\n",
       "       1.00e+01, 7.00e+00, 8.00e+00, 1.20e+01, 1.60e+01, 9.00e+00,\n",
       "       1.60e+01, 2.20e+01, 1.60e+01, 2.90e+01, 2.80e+01, 1.20e+01,\n",
       "       3.00e+01, 1.30e+01, 1.40e+01, 1.40e+01, 2.20e+01, 6.30e+01,\n",
       "       2.40e+01, 3.40e+01, 3.20e+01, 3.90e+01, 3.40e+01, 3.00e+01,\n",
       "       5.80e+01, 1.90e+01, 8.60e+01, 3.20e+01, 5.20e+01, 4.30e+01,\n",
       "       5.80e+01, 2.20e+01, 7.80e+01, 3.90e+01, 4.60e+01, 7.00e+01,\n",
       "       1.02e+02, 2.50e+01, 2.60e+01, 4.20e+01, 4.00e+01, 2.70e+01,\n",
       "       5.20e+01, 1.60e+02, 7.40e+01, 6.30e+01, 1.26e+02, 6.20e+01,\n",
       "       7.00e+01, 6.30e+01, 1.34e+02, 1.04e+02, 6.40e+01, 5.70e+01,\n",
       "       7.80e+01, 3.40e+01, 1.32e+02, 1.01e+02, 6.00e+01, 7.40e+01,\n",
       "       2.22e+02, 3.70e+01, 3.80e+01, 6.20e+01, 3.28e+02, 8.90e+01,\n",
       "       6.40e+01, 8.20e+01, 1.24e+02, 4.10e+01, 8.60e+01, 4.20e+01,\n",
       "       1.72e+02, 7.50e+01, 4.40e+01, 1.84e+02, 1.78e+02, 1.81e+02,\n",
       "       1.32e+02, 8.20e+01, 1.80e+02, 9.90e+01, 1.40e+02, 1.04e+02,\n",
       "       2.46e+02, 4.90e+01, 5.00e+01, 1.14e+02, 7.60e+01, 2.07e+02,\n",
       "       1.64e+02, 5.20e+01, 1.40e+02, 2.55e+02, 1.06e+02, 1.60e+02,\n",
       "       2.02e+02, 1.11e+02, 3.20e+02, 9.20e+01, 2.74e+02, 1.69e+02,\n",
       "       2.48e+02, 1.02e+02, 3.68e+02, 1.07e+02, 1.24e+02, 1.08e+02,\n",
       "       2.50e+02, 1.47e+02, 2.50e+02, 3.80e+02, 5.20e+02, 6.30e+01,\n",
       "       3.58e+02, 6.40e+01, 1.28e+02, 1.91e+02, 1.14e+02, 1.34e+02,\n",
       "       2.28e+02, 1.45e+02, 6.80e+01, 1.20e+02, 5.20e+02, 6.90e+01,\n",
       "       4.00e+02, 4.24e+02, 1.78e+02, 6.23e+02, 1.48e+02, 1.64e+02,\n",
       "       8.70e+02, 3.05e+02, 7.40e+01, 2.18e+02, 1.12e+02, 1.51e+02,\n",
       "       1.24e+02, 4.60e+02, 8.12e+02, 3.33e+02, 1.78e+02, 4.20e+02,\n",
       "       1.90e+02, 7.90e+01, 3.26e+02, 1.32e+02, 2.68e+02, 5.43e+02,\n",
       "       1.60e+02, 8.20e+01, 2.56e+02, 7.69e+02, 1.66e+02, 8.40e+01,\n",
       "       6.24e+02, 8.50e+01, 2.94e+02, 4.26e+02, 1.30e+02, 8.70e+01,\n",
       "       3.68e+02, 1.60e+02, 3.78e+02, 1.83e+02, 3.62e+02, 1.82e+02,\n",
       "       5.02e+02, 3.67e+02, 1.64e+02, 3.12e+02, 7.12e+02, 1.65e+02,\n",
       "       3.92e+02, 2.14e+02, 4.18e+02, 3.29e+02, 4.10e+02, 1.94e+02,\n",
       "       5.34e+02, 9.70e+01, 9.80e+01, 2.82e+02, 1.48e+02, 9.90e+01,\n",
       "       3.78e+02, 1.81e+03])"
      ]
     },
     "execution_count": 38,
     "metadata": {},
     "output_type": "execute_result"
    }
   ],
   "source": [
    "Bracelets_mod_n_list(200)"
   ]
  },
  {
   "cell_type": "code",
   "execution_count": 39,
   "id": "ecd74d92-8c34-4347-886a-a4f5d07c0637",
   "metadata": {
    "tags": []
   },
   "outputs": [],
   "source": [
    "#1810 jumos out as large!"
   ]
  },
  {
   "cell_type": "code",
   "execution_count": 40,
   "id": "f7deb272-43c6-4d21-bbfc-e417dff0638c",
   "metadata": {
    "tags": []
   },
   "outputs": [
    {
     "data": {
      "text/plain": [
       "1810.0"
      ]
     },
     "execution_count": 40,
     "metadata": {},
     "output_type": "execute_result"
    }
   ],
   "source": [
    "Bracelets_mod_n_list(200)[199] #but 199 is prime? so it isnt just primes"
   ]
  },
  {
   "cell_type": "code",
   "execution_count": 41,
   "id": "fbb1cb2a-fd87-4ef6-8556-ecd841ff287f",
   "metadata": {
    "tags": []
   },
   "outputs": [],
   "source": [
    "#seems hard to predict which N cause number of braceelets mod N to be large"
   ]
  },
  {
   "cell_type": "code",
   "execution_count": 42,
   "id": "d8696954-cd16-45a3-8656-0def3364fbb5",
   "metadata": {
    "tags": []
   },
   "outputs": [
    {
     "data": {
      "text/plain": [
       "array([0.000e+00, 1.000e+00, 2.000e+00, 2.000e+00, 4.000e+00, 3.000e+00,\n",
       "       4.000e+00, 4.000e+00, 8.000e+00, 5.000e+00, 6.000e+00, 1.400e+01,\n",
       "       1.000e+01, 7.000e+00, 8.000e+00, 1.200e+01, 1.600e+01, 9.000e+00,\n",
       "       1.600e+01, 2.200e+01, 1.600e+01, 2.900e+01, 2.800e+01, 1.200e+01,\n",
       "       3.000e+01, 1.300e+01, 1.400e+01, 1.400e+01, 2.200e+01, 6.300e+01,\n",
       "       2.400e+01, 3.400e+01, 3.200e+01, 3.900e+01, 3.400e+01, 3.000e+01,\n",
       "       5.800e+01, 1.900e+01, 8.600e+01, 3.200e+01, 5.200e+01, 4.300e+01,\n",
       "       5.800e+01, 2.200e+01, 7.800e+01, 3.900e+01, 4.600e+01, 7.000e+01,\n",
       "       1.020e+02, 2.500e+01, 2.600e+01, 4.200e+01, 4.000e+01, 2.700e+01,\n",
       "       5.200e+01, 1.600e+02, 7.400e+01, 6.300e+01, 1.260e+02, 6.200e+01,\n",
       "       7.000e+01, 6.300e+01, 1.340e+02, 1.040e+02, 6.400e+01, 5.700e+01,\n",
       "       7.800e+01, 3.400e+01, 1.320e+02, 1.010e+02, 6.000e+01, 7.400e+01,\n",
       "       2.220e+02, 3.700e+01, 3.800e+01, 6.200e+01, 3.280e+02, 8.900e+01,\n",
       "       6.400e+01, 8.200e+01, 1.240e+02, 4.100e+01, 8.600e+01, 4.200e+01,\n",
       "       1.720e+02, 7.500e+01, 4.400e+01, 1.840e+02, 1.780e+02, 1.810e+02,\n",
       "       1.320e+02, 8.200e+01, 1.800e+02, 9.900e+01, 1.400e+02, 1.040e+02,\n",
       "       2.460e+02, 4.900e+01, 5.000e+01, 1.140e+02, 7.600e+01, 2.070e+02,\n",
       "       1.640e+02, 5.200e+01, 1.400e+02, 2.550e+02, 1.060e+02, 1.600e+02,\n",
       "       2.020e+02, 1.110e+02, 3.200e+02, 9.200e+01, 2.740e+02, 1.690e+02,\n",
       "       2.480e+02, 1.020e+02, 3.680e+02, 1.070e+02, 1.240e+02, 1.080e+02,\n",
       "       2.500e+02, 1.470e+02, 2.500e+02, 3.800e+02, 5.200e+02, 6.300e+01,\n",
       "       3.580e+02, 6.400e+01, 1.280e+02, 1.910e+02, 1.140e+02, 1.340e+02,\n",
       "       2.280e+02, 1.450e+02, 6.800e+01, 1.200e+02, 5.200e+02, 6.900e+01,\n",
       "       4.000e+02, 4.240e+02, 1.780e+02, 6.230e+02, 1.480e+02, 1.640e+02,\n",
       "       8.700e+02, 3.050e+02, 7.400e+01, 2.180e+02, 1.120e+02, 1.510e+02,\n",
       "       1.240e+02, 4.600e+02, 8.120e+02, 3.330e+02, 1.780e+02, 4.200e+02,\n",
       "       1.900e+02, 7.900e+01, 3.260e+02, 1.320e+02, 2.680e+02, 5.430e+02,\n",
       "       1.600e+02, 8.200e+01, 2.560e+02, 7.690e+02, 1.660e+02, 8.400e+01,\n",
       "       6.240e+02, 8.500e+01, 2.940e+02, 4.260e+02, 1.300e+02, 8.700e+01,\n",
       "       3.680e+02, 1.600e+02, 3.780e+02, 1.830e+02, 3.620e+02, 1.820e+02,\n",
       "       5.020e+02, 3.670e+02, 1.640e+02, 3.120e+02, 7.120e+02, 1.650e+02,\n",
       "       3.920e+02, 2.140e+02, 4.180e+02, 3.290e+02, 4.100e+02, 1.940e+02,\n",
       "       5.340e+02, 9.700e+01, 9.800e+01, 2.820e+02, 1.480e+02, 9.900e+01,\n",
       "       3.780e+02, 1.810e+03, 2.720e+02, 2.990e+02, 4.140e+02, 4.260e+02,\n",
       "       6.500e+02, 1.053e+03, 1.040e+02, 8.960e+02, 3.400e+02, 5.170e+02,\n",
       "       5.100e+02, 1.066e+03, 4.200e+02, 2.190e+02, 6.380e+02, 1.920e+02,\n",
       "       7.980e+02, 2.290e+02, 4.420e+02, 1.820e+02, 9.540e+02, 2.070e+02,\n",
       "       1.840e+02, 1.120e+02, 1.058e+03, 2.090e+02, 3.380e+02, 1.140e+02,\n",
       "       9.740e+02, 4.630e+02, 4.020e+02, 7.140e+02, 8.520e+02, 1.045e+03,\n",
       "       3.640e+02, 6.240e+02, 3.660e+02, 2.430e+02, 4.240e+02, 2.420e+02,\n",
       "       8.980e+02, 2.430e+02, 2.940e+02, 1.220e+02, 9.960e+02, 2.190e+02,\n",
       "       7.600e+02, 2.680e+02, 1.292e+03, 3.710e+02])"
      ]
     },
     "execution_count": 42,
     "metadata": {},
     "output_type": "execute_result"
    }
   ],
   "source": [
    "Bracelets_mod_n_list(250)"
   ]
  },
  {
   "cell_type": "code",
   "execution_count": 43,
   "id": "1e7ed4eb-1d14-4221-81c6-9096b11db01a",
   "metadata": {
    "tags": []
   },
   "outputs": [],
   "source": [
    "#nothing massively large betweem 200 and 250 - ie nothing over the 1800 seen before"
   ]
  },
  {
   "cell_type": "code",
   "execution_count": 44,
   "id": "9c90c388-b6e2-40a3-91e4-55e25f790e5f",
   "metadata": {
    "tags": []
   },
   "outputs": [
    {
     "data": {
      "text/plain": [
       "array([0.000e+00, 1.000e+00, 2.000e+00, 2.000e+00, 4.000e+00, 3.000e+00,\n",
       "       4.000e+00, 4.000e+00, 8.000e+00, 5.000e+00, 6.000e+00, 1.400e+01,\n",
       "       1.000e+01, 7.000e+00, 8.000e+00, 1.200e+01, 1.600e+01, 9.000e+00,\n",
       "       1.600e+01, 2.200e+01, 1.600e+01, 2.900e+01, 2.800e+01, 1.200e+01,\n",
       "       3.000e+01, 1.300e+01, 1.400e+01, 1.400e+01, 2.200e+01, 6.300e+01,\n",
       "       2.400e+01, 3.400e+01, 3.200e+01, 3.900e+01, 3.400e+01, 3.000e+01,\n",
       "       5.800e+01, 1.900e+01, 8.600e+01, 3.200e+01, 5.200e+01, 4.300e+01,\n",
       "       5.800e+01, 2.200e+01, 7.800e+01, 3.900e+01, 4.600e+01, 7.000e+01,\n",
       "       1.020e+02, 2.500e+01, 2.600e+01, 4.200e+01, 4.000e+01, 2.700e+01,\n",
       "       5.200e+01, 1.600e+02, 7.400e+01, 6.300e+01, 1.260e+02, 6.200e+01,\n",
       "       7.000e+01, 6.300e+01, 1.340e+02, 1.040e+02, 6.400e+01, 5.700e+01,\n",
       "       7.800e+01, 3.400e+01, 1.320e+02, 1.010e+02, 6.000e+01, 7.400e+01,\n",
       "       2.220e+02, 3.700e+01, 3.800e+01, 6.200e+01, 3.280e+02, 8.900e+01,\n",
       "       6.400e+01, 8.200e+01, 1.240e+02, 4.100e+01, 8.600e+01, 4.200e+01,\n",
       "       1.720e+02, 7.500e+01, 4.400e+01, 1.840e+02, 1.780e+02, 1.810e+02,\n",
       "       1.320e+02, 8.200e+01, 1.800e+02, 9.900e+01, 1.400e+02, 1.040e+02,\n",
       "       2.460e+02, 4.900e+01, 5.000e+01, 1.140e+02, 7.600e+01, 2.070e+02,\n",
       "       1.640e+02, 5.200e+01, 1.400e+02, 2.550e+02, 1.060e+02, 1.600e+02,\n",
       "       2.020e+02, 1.110e+02, 3.200e+02, 9.200e+01, 2.740e+02, 1.690e+02,\n",
       "       2.480e+02, 1.020e+02, 3.680e+02, 1.070e+02, 1.240e+02, 1.080e+02,\n",
       "       2.500e+02, 1.470e+02, 2.500e+02, 3.800e+02, 5.200e+02, 6.300e+01,\n",
       "       3.580e+02, 6.400e+01, 1.280e+02, 1.910e+02, 1.140e+02, 1.340e+02,\n",
       "       2.280e+02, 1.450e+02, 6.800e+01, 1.200e+02, 5.200e+02, 6.900e+01,\n",
       "       4.000e+02, 4.240e+02, 1.780e+02, 6.230e+02, 1.480e+02, 1.640e+02,\n",
       "       8.700e+02, 3.050e+02, 7.400e+01, 2.180e+02, 1.120e+02, 1.510e+02,\n",
       "       1.240e+02, 4.600e+02, 8.120e+02, 3.330e+02, 1.780e+02, 4.200e+02,\n",
       "       1.900e+02, 7.900e+01, 3.260e+02, 1.320e+02, 2.680e+02, 5.430e+02,\n",
       "       1.600e+02, 8.200e+01, 2.560e+02, 7.690e+02, 1.660e+02, 8.400e+01,\n",
       "       6.240e+02, 8.500e+01, 2.940e+02, 4.260e+02, 1.300e+02, 8.700e+01,\n",
       "       3.680e+02, 1.600e+02, 3.780e+02, 1.830e+02, 3.620e+02, 1.820e+02,\n",
       "       5.020e+02, 3.670e+02, 1.640e+02, 3.120e+02, 7.120e+02, 1.650e+02,\n",
       "       3.920e+02, 2.140e+02, 4.180e+02, 3.290e+02, 4.100e+02, 1.940e+02,\n",
       "       5.340e+02, 9.700e+01, 9.800e+01, 2.820e+02, 1.480e+02, 9.900e+01,\n",
       "       3.780e+02, 1.810e+03, 2.720e+02, 2.990e+02, 4.140e+02, 4.260e+02,\n",
       "       6.500e+02, 1.053e+03, 1.040e+02, 8.960e+02, 3.400e+02, 5.170e+02,\n",
       "       5.100e+02, 1.066e+03, 4.200e+02, 2.190e+02, 6.380e+02, 1.920e+02,\n",
       "       7.980e+02, 2.290e+02, 4.420e+02, 1.820e+02, 9.540e+02, 2.070e+02,\n",
       "       1.840e+02, 1.120e+02, 1.058e+03, 2.090e+02, 3.380e+02, 1.140e+02,\n",
       "       9.740e+02, 4.630e+02, 4.020e+02, 7.140e+02, 8.520e+02, 1.045e+03,\n",
       "       3.640e+02, 6.240e+02, 3.660e+02, 2.430e+02, 4.240e+02, 2.420e+02,\n",
       "       8.980e+02, 2.430e+02, 2.940e+02, 1.220e+02, 9.960e+02, 2.190e+02,\n",
       "       7.600e+02, 2.680e+02, 1.292e+03, 3.710e+02, 1.260e+02, 2.540e+02,\n",
       "       1.372e+03, 2.890e+02, 1.280e+02, 3.720e+02, 2.560e+02, 1.290e+02,\n",
       "       3.820e+02, 2.380e+02, 3.400e+02, 5.470e+02, 2.680e+02, 3.940e+02,\n",
       "       7.280e+02, 2.370e+02, 5.720e+02, 9.020e+02, 2.020e+02, 2.710e+02,\n",
       "       4.560e+02, 2.740e+02, 1.296e+03, 7.070e+02, 2.740e+02, 1.370e+03,\n",
       "       1.594e+03, 1.390e+02, 8.480e+02, 6.780e+02, 6.460e+02, 1.411e+03,\n",
       "       1.246e+03, 1.420e+02, 4.380e+02, 4.730e+02, 3.280e+02, 1.054e+03,\n",
       "       2.166e+03, 1.450e+02, 6.100e+02, 2.420e+02, 2.200e+02, 1.470e+02,\n",
       "       4.360e+02, 3.040e+02, 4.040e+02, 3.390e+02, 3.020e+02, 2.820e+02])"
      ]
     },
     "execution_count": 44,
     "metadata": {},
     "output_type": "execute_result"
    }
   ],
   "source": [
    "Bracelets_mod_n_list(300)"
   ]
  },
  {
   "cell_type": "code",
   "execution_count": 45,
   "id": "ec348f77-725a-4559-934b-2ba03c4e3267",
   "metadata": {
    "tags": []
   },
   "outputs": [
    {
     "data": {
      "text/plain": [
       "1411.0"
      ]
     },
     "execution_count": 45,
     "metadata": {},
     "output_type": "execute_result"
    }
   ],
   "source": [
    "y[281] #281 is prime"
   ]
  },
  {
   "cell_type": "code",
   "execution_count": null,
   "id": "95172dd1-fa1c-45f1-845b-9ac41b625fe3",
   "metadata": {},
   "outputs": [],
   "source": []
  },
  {
   "cell_type": "code",
   "execution_count": 46,
   "id": "4c12a74d-b2eb-4173-affe-9ae6866bb0e3",
   "metadata": {
    "tags": []
   },
   "outputs": [],
   "source": [
    "#2166 and 1411 fairly large is quite large"
   ]
  },
  {
   "cell_type": "code",
   "execution_count": 47,
   "id": "4bbcf317-6502-4b12-ba98-810fbe169480",
   "metadata": {
    "tags": []
   },
   "outputs": [
    {
     "data": {
      "text/plain": [
       "2166.0"
      ]
     },
     "execution_count": 47,
     "metadata": {},
     "output_type": "execute_result"
    }
   ],
   "source": [
    "Bracelets_mod_n_list(300)[288] #note 288 is again not prime"
   ]
  },
  {
   "cell_type": "code",
   "execution_count": 48,
   "id": "d8f4261c-0aea-40f2-962b-56b08acc6f6a",
   "metadata": {
    "tags": []
   },
   "outputs": [
    {
     "name": "stdout",
     "output_type": "stream",
     "text": [
      "[0.000e+00 1.000e+00 2.000e+00 2.000e+00 4.000e+00 3.000e+00 4.000e+00\n",
      " 4.000e+00 8.000e+00 5.000e+00 6.000e+00 1.400e+01 1.000e+01 7.000e+00\n",
      " 8.000e+00 1.200e+01 1.600e+01 9.000e+00 1.600e+01 2.200e+01 1.600e+01\n",
      " 2.900e+01 2.800e+01 1.200e+01 3.000e+01 1.300e+01 1.400e+01 1.400e+01\n",
      " 2.200e+01 6.300e+01 2.400e+01 3.400e+01 3.200e+01 3.900e+01 3.400e+01\n",
      " 3.000e+01 5.800e+01 1.900e+01 8.600e+01 3.200e+01 5.200e+01 4.300e+01\n",
      " 5.800e+01 2.200e+01 7.800e+01 3.900e+01 4.600e+01 7.000e+01 1.020e+02\n",
      " 2.500e+01 2.600e+01 4.200e+01 4.000e+01 2.700e+01 5.200e+01 1.600e+02\n",
      " 7.400e+01 6.300e+01 1.260e+02 6.200e+01 7.000e+01 6.300e+01 1.340e+02\n",
      " 1.040e+02 6.400e+01 5.700e+01 7.800e+01 3.400e+01 1.320e+02 1.010e+02\n",
      " 6.000e+01 7.400e+01 2.220e+02 3.700e+01 3.800e+01 6.200e+01 3.280e+02\n",
      " 8.900e+01 6.400e+01 8.200e+01 1.240e+02 4.100e+01 8.600e+01 4.200e+01\n",
      " 1.720e+02 7.500e+01 4.400e+01 1.840e+02 1.780e+02 1.810e+02 1.320e+02\n",
      " 8.200e+01 1.800e+02 9.900e+01 1.400e+02 1.040e+02 2.460e+02 4.900e+01\n",
      " 5.000e+01 1.140e+02 7.600e+01 2.070e+02 1.640e+02 5.200e+01 1.400e+02\n",
      " 2.550e+02 1.060e+02 1.600e+02 2.020e+02 1.110e+02 3.200e+02 9.200e+01\n",
      " 2.740e+02 1.690e+02 2.480e+02 1.020e+02 3.680e+02 1.070e+02 1.240e+02\n",
      " 1.080e+02 2.500e+02 1.470e+02 2.500e+02 3.800e+02 5.200e+02 6.300e+01\n",
      " 3.580e+02 6.400e+01 1.280e+02 1.910e+02 1.140e+02 1.340e+02 2.280e+02\n",
      " 1.450e+02 6.800e+01 1.200e+02 5.200e+02 6.900e+01 4.000e+02 4.240e+02\n",
      " 1.780e+02 6.230e+02 1.480e+02 1.640e+02 8.700e+02 3.050e+02 7.400e+01\n",
      " 2.180e+02 1.120e+02 1.510e+02 1.240e+02 4.600e+02 8.120e+02 3.330e+02\n",
      " 1.780e+02 4.200e+02 1.900e+02 7.900e+01 3.260e+02 1.320e+02 2.680e+02\n",
      " 5.430e+02 1.600e+02 8.200e+01 2.560e+02 7.690e+02 1.660e+02 8.400e+01\n",
      " 6.240e+02 8.500e+01 2.940e+02 4.260e+02 1.300e+02 8.700e+01 3.680e+02\n",
      " 1.600e+02 3.780e+02 1.830e+02 3.620e+02 1.820e+02 5.020e+02 3.670e+02\n",
      " 1.640e+02 3.120e+02 7.120e+02 1.650e+02 3.920e+02 2.140e+02 4.180e+02\n",
      " 3.290e+02 4.100e+02 1.940e+02 5.340e+02 9.700e+01 9.800e+01 2.820e+02\n",
      " 1.480e+02 9.900e+01 3.780e+02 1.810e+03 2.720e+02 2.990e+02 4.140e+02\n",
      " 4.260e+02 6.500e+02 1.053e+03 1.040e+02 8.960e+02 3.400e+02 5.170e+02\n",
      " 5.100e+02 1.066e+03 4.200e+02 2.190e+02 6.380e+02 1.920e+02 7.980e+02\n",
      " 2.290e+02 4.420e+02 1.820e+02 9.540e+02 2.070e+02 1.840e+02 1.120e+02\n",
      " 1.058e+03 2.090e+02 3.380e+02 1.140e+02 9.740e+02 4.630e+02 4.020e+02\n",
      " 7.140e+02 8.520e+02 1.045e+03 3.640e+02 6.240e+02 3.660e+02 2.430e+02\n",
      " 4.240e+02 2.420e+02 8.980e+02 2.430e+02 2.940e+02 1.220e+02 9.960e+02\n",
      " 2.190e+02 7.600e+02 2.680e+02 1.292e+03 3.710e+02 1.260e+02 2.540e+02\n",
      " 1.372e+03 2.890e+02 1.280e+02 3.720e+02 2.560e+02 1.290e+02 3.820e+02\n",
      " 2.380e+02 3.400e+02 5.470e+02 2.680e+02 3.940e+02 7.280e+02 2.370e+02\n",
      " 5.720e+02 9.020e+02 2.020e+02 2.710e+02 4.560e+02 2.740e+02 1.296e+03\n",
      " 7.070e+02 2.740e+02 1.370e+03 1.594e+03 1.390e+02 8.480e+02 6.780e+02\n",
      " 6.460e+02 1.411e+03 1.246e+03 1.420e+02 4.380e+02 4.730e+02 3.280e+02\n",
      " 1.054e+03 2.166e+03 1.450e+02 6.100e+02 2.420e+02 2.200e+02 1.470e+02\n",
      " 4.360e+02 3.040e+02 4.040e+02 3.390e+02 3.020e+02 2.820e+02 3.700e+02\n",
      " 5.290e+02 9.200e+02 6.160e+02 1.780e+03 1.553e+03 1.328e+03 1.072e+03\n",
      " 5.280e+02 4.610e+02 1.674e+03 3.140e+02 6.900e+02 1.570e+02 1.580e+02\n",
      " 9.300e+02 1.288e+03 1.590e+02 5.240e+02 1.520e+03 5.560e+02 1.433e+03\n",
      " 2.164e+03 2.910e+03 6.340e+02 3.070e+02 1.640e+02 5.520e+02 9.320e+02\n",
      " 3.385e+03 1.538e+03 1.000e+03 6.600e+02 3.110e+02 3.340e+02 3.000e+02\n",
      " 2.424e+03 1.690e+02 1.700e+02 8.420e+02 1.168e+03 3.897e+03 1.700e+03\n",
      " 1.720e+02 4.700e+02 9.030e+02 3.460e+02 5.200e+02 1.094e+03 7.030e+02]\n"
     ]
    }
   ],
   "source": [
    "X = Bracelets_mod_n_list(350)\n",
    "print(X)"
   ]
  },
  {
   "cell_type": "code",
   "execution_count": 49,
   "id": "d8504c86-e8fe-47a9-bbde-46d82cbaa88a",
   "metadata": {
    "tags": []
   },
   "outputs": [],
   "source": [
    "#3385 and #3897 are large numbers of bracelets"
   ]
  },
  {
   "cell_type": "code",
   "execution_count": 50,
   "id": "1d8f23d6-8b99-4371-863e-de0a6a769e61",
   "metadata": {
    "tags": []
   },
   "outputs": [
    {
     "data": {
      "text/plain": [
       "3897.0"
      ]
     },
     "execution_count": 50,
     "metadata": {},
     "output_type": "execute_result"
    }
   ],
   "source": [
    "X[341] #is not prime"
   ]
  },
  {
   "cell_type": "code",
   "execution_count": 51,
   "id": "ef3bba09-790a-4b58-aeea-ce8d3b4b28c0",
   "metadata": {
    "tags": []
   },
   "outputs": [
    {
     "data": {
      "text/plain": [
       "3385.0"
      ]
     },
     "execution_count": 51,
     "metadata": {},
     "output_type": "execute_result"
    }
   ],
   "source": [
    "X[329] #329 is not prime"
   ]
  },
  {
   "cell_type": "code",
   "execution_count": 52,
   "id": "1d07ff3e-1409-4a5a-b948-79a379f28749",
   "metadata": {
    "tags": []
   },
   "outputs": [],
   "source": [
    "#most of the numbers N st number of bracelets mod N is large seem to be composite, but only at a rate that most of these numbers looked at (ie between 300 and 350 here) are composite anyway -\n",
    "#ie it appears to be independent of whether N is composite or prime"
   ]
  },
  {
   "cell_type": "code",
   "execution_count": 53,
   "id": "734ece94-2ada-4db9-af99-9ca902945bb6",
   "metadata": {
    "tags": []
   },
   "outputs": [
    {
     "name": "stdout",
     "output_type": "stream",
     "text": [
      "[0.0000e+00 1.0000e+00 2.0000e+00 ... 1.0245e+04 1.2040e+03 2.7640e+03]\n"
     ]
    }
   ],
   "source": [
    "print(y)"
   ]
  },
  {
   "cell_type": "code",
   "execution_count": 54,
   "id": "3f5d7094-10bd-41f1-995e-2a87777fa715",
   "metadata": {
    "tags": []
   },
   "outputs": [
    {
     "data": {
      "text/plain": [
       "3588.0"
      ]
     },
     "execution_count": 54,
     "metadata": {},
     "output_type": "execute_result"
    }
   ],
   "source": [
    "y[690]"
   ]
  },
  {
   "cell_type": "code",
   "execution_count": 55,
   "id": "6f7e4ae7-b879-4b53-9c8d-d30790e10ce9",
   "metadata": {
    "tags": []
   },
   "outputs": [
    {
     "name": "stdout",
     "output_type": "stream",
     "text": [
      "[1350.0, 603.0, 1058.0, 1094.0, 2746.0, 1877.0, 1232.0, 304.0, 3716.0, 3451.0, 6206.0, 1732.0, 5306.0, 307.0, 2144.0, 9462.0, 1828.0, 309.0, 922.0, 1864.0, 6676.0, 3281.0, 628.0, 2344.0, 2490.0, 313.0, 314.0, 1542.0, 472.0, 603.0, 3210.0, 634.0, 3212.0, 3187.0, 634.0, 570.0, 2090.0, 3631.0, 3040.0, 654.0, 1132.0, 643.0, 5728.0, 322.0, 8646.0, 1713.0, 11638.0, 324.0, 2526.0, 1517.0, 614.0, 1854.0, 490.0, 327.0, 2204.0, 1720.0, 3628.0, 617.0, 6770.0, 662.0, 4608.0, 1987.0, 2000.0, 1032.0, 2632.0, 1211.0, 1060.0, 1394.0, 1332.0, 1001.0, 600.0, 7516.0, 9480.0, 337.0, 338.0, 650.0, 508.0, 1015.0, 1684.0, 628.0, 4660.0, 1019.0, 15560.0, 342.0, 6782.0, 615.0, 344.0, 1384.0, 1822.0, 657.0, 3588.0, 3466.0, 1380.0, 2589.0, 1040.0, 2106.0, 3514.0, 1395.0, 2810.0, 5222.0]\n"
     ]
    }
   ],
   "source": [
    "print([y[i] for i in range(600,700)])"
   ]
  },
  {
   "cell_type": "code",
   "execution_count": 56,
   "id": "d6b80b16-52bb-46bb-b198-7aca725198d6",
   "metadata": {
    "tags": []
   },
   "outputs": [
    {
     "data": {
      "text/plain": [
       "15560.0"
      ]
     },
     "execution_count": 56,
     "metadata": {},
     "output_type": "execute_result"
    }
   ],
   "source": [
    "y[682] #682 is not prime"
   ]
  },
  {
   "cell_type": "code",
   "execution_count": 57,
   "id": "9e011a56-7b63-4380-a11b-27a99d9e9952",
   "metadata": {},
   "outputs": [],
   "source": [
    "#15560 bracelets is massive"
   ]
  },
  {
   "cell_type": "code",
   "execution_count": 58,
   "id": "9fe8b7bd-9e5b-4fee-a1a6-e8615d14c02c",
   "metadata": {
    "tags": []
   },
   "outputs": [
    {
     "data": {
      "text/plain": [
       "11638.0"
      ]
     },
     "execution_count": 58,
     "metadata": {},
     "output_type": "execute_result"
    }
   ],
   "source": [
    "y[646] #not prime again"
   ]
  },
  {
   "cell_type": "code",
   "execution_count": 59,
   "id": "3493b04c-58fe-40b6-a3f7-80717ef863da",
   "metadata": {
    "tags": []
   },
   "outputs": [],
   "source": [
    "#massive number of bracelets"
   ]
  },
  {
   "cell_type": "code",
   "execution_count": 60,
   "id": "c98c8dbb-20b1-470e-87ea-8429ef23987e",
   "metadata": {
    "tags": []
   },
   "outputs": [
    {
     "name": "stdout",
     "output_type": "stream",
     "text": [
      "[2030.0, 792.0, 6730.0, 4285.0, 4280.0, 2500.0, 1446.0, 4545.0, 964.0, 888.0, 4786.0, 1027.0, 914.0, 12884.0, 3876.0, 867.0, 19462.0, 5314.0, 2028.0, 14503.0, 870.0, 974.0, 1930.0, 2947.0, 488.0, 1532.0, 9936.0, 1465.0, 1462.0, 4514.0, 1312.0, 4515.0, 988.0, 492.0, 8346.0, 885.0, 3998.0, 30458.0, 4204.0, 1881.0, 8846.0, 4966.0, 5924.0, 2993.0, 1018.0, 9012.0, 5914.0, 499.0, 2006.0, 968.0]\n"
     ]
    }
   ],
   "source": [
    "print([y[i] for i in range(950,1000)])"
   ]
  },
  {
   "cell_type": "code",
   "execution_count": 61,
   "id": "bc21e1b8-2348-42e2-b140-c9a1bb19d5b0",
   "metadata": {
    "tags": []
   },
   "outputs": [
    {
     "name": "stdout",
     "output_type": "stream",
     "text": [
      "12884.0\n",
      "19462.0\n",
      "30458.0\n",
      "499.0\n"
     ]
    }
   ],
   "source": [
    "#note 14,500, 12,884, and 30,458!\n",
    "print(y[963]) # divisible by 3\n",
    "print(y[966]) # divisible by 2\n",
    "print(y[987]) #divisible by 3\n",
    "print(y[997]) #997 prime - i wonder if primes have less bracelets"
   ]
  },
  {
   "cell_type": "code",
   "execution_count": 62,
   "id": "105c1bfa-a2c7-4522-86e5-97ed78cab2e0",
   "metadata": {
    "tags": []
   },
   "outputs": [
    {
     "data": {
      "text/plain": [
       "11870.0"
      ]
     },
     "execution_count": 62,
     "metadata": {},
     "output_type": "execute_result"
    }
   ],
   "source": [
    "y[911] #911 is prime - "
   ]
  },
  {
   "cell_type": "code",
   "execution_count": 63,
   "id": "21c247fb-0d16-45b1-9a6e-53bb3335da5a",
   "metadata": {
    "tags": []
   },
   "outputs": [],
   "source": [
    "#11,870 is relatively large - again prime N can have large number of Bracelets, pattern doesnt seem to relate to whether or not N is prime even as N grows"
   ]
  },
  {
   "cell_type": "code",
   "execution_count": 64,
   "id": "5a945d4d-ebaf-4105-bdbd-cd0e7b3bb027",
   "metadata": {
    "tags": []
   },
   "outputs": [],
   "source": [
    "#especially noting there are fewer primes N as N grows."
   ]
  },
  {
   "cell_type": "code",
   "execution_count": 65,
   "id": "245c0fd0-f4f3-4a44-9688-fc26e35b16a9",
   "metadata": {
    "tags": []
   },
   "outputs": [
    {
     "name": "stdout",
     "output_type": "stream",
     "text": [
      "2.0\n",
      "4.0\n",
      "8.0\n",
      "16.0\n",
      "32.0\n",
      "64.0\n",
      "128.0\n",
      "256.0\n",
      "512.0\n",
      "1024.0\n"
     ]
    }
   ],
   "source": [
    "#how about powers of 2?\n",
    "print(y[2])\n",
    "print(y[4])\n",
    "print(y[8])\n",
    "print(y[16])\n",
    "print(y[32])\n",
    "print(y[64])\n",
    "print(y[128])\n",
    "print(y[256])\n",
    "print(y[512])\n",
    "print(y[1024])"
   ]
  },
  {
   "cell_type": "code",
   "execution_count": 66,
   "id": "d45e8980-fe98-4ca5-bec2-e2f7f4f4c9ec",
   "metadata": {
    "tags": []
   },
   "outputs": [],
   "source": [
    "#AHA!!! That cant be a coincedence!"
   ]
  },
  {
   "cell_type": "code",
   "execution_count": 67,
   "id": "6df265be-f36b-4f7f-b39f-f5e143dc8c62",
   "metadata": {
    "tags": []
   },
   "outputs": [
    {
     "name": "stdout",
     "output_type": "stream",
     "text": [
      "2.0\n",
      "5.0\n",
      "14.0\n",
      "41.0\n",
      "122.0\n",
      "365.0\n"
     ]
    }
   ],
   "source": [
    "#Powers of 3?\n",
    "print(y[3])\n",
    "print(y[9])\n",
    "print(y[27])\n",
    "print(y[81])\n",
    "print(y[243])\n",
    "print(y[729])"
   ]
  },
  {
   "cell_type": "code",
   "execution_count": 68,
   "id": "65087f3b-217c-4a09-b5fb-5b78fd45b14a",
   "metadata": {
    "tags": []
   },
   "outputs": [],
   "source": [
    "#AHA! double and minus 1 gives N"
   ]
  },
  {
   "cell_type": "code",
   "execution_count": 69,
   "id": "6b573065-b6ab-45e5-a425-0201b7f0fa7c",
   "metadata": {
    "tags": []
   },
   "outputs": [],
   "source": [
    "#if f(N) is number of bracelets mod N then f(2^k) appears to = 2^k and f(3^k) = (3^k + 1)/2"
   ]
  },
  {
   "cell_type": "code",
   "execution_count": 70,
   "id": "f8b3c95d-93e3-46d1-b89f-e3febfa916e9",
   "metadata": {
    "tags": []
   },
   "outputs": [
    {
     "name": "stdout",
     "output_type": "stream",
     "text": [
      "3.0\n",
      "13.0\n",
      "63.0\n",
      "313.0\n"
     ]
    }
   ],
   "source": [
    "#Powers of 10? powers of primes?\n",
    "print(y[5])\n",
    "print(y[25])\n",
    "print(y[125])\n",
    "print(y[625])"
   ]
  },
  {
   "cell_type": "code",
   "execution_count": 71,
   "id": "9524f436-0a6c-40c1-a8f6-d148aa6ca0ed",
   "metadata": {
    "tags": []
   },
   "outputs": [],
   "source": [
    "#AHA! follows (N+1)/2"
   ]
  },
  {
   "cell_type": "code",
   "execution_count": 72,
   "id": "29dd988e-0810-4a52-97da-84c64f5ff7f2",
   "metadata": {
    "tags": []
   },
   "outputs": [
    {
     "name": "stdout",
     "output_type": "stream",
     "text": [
      "4.0\n",
      "25.0\n",
      "172.0\n"
     ]
    }
   ],
   "source": [
    "#lets try 7\n",
    "print(y[7])\n",
    "print(y[49])\n",
    "print(y[343])"
   ]
  },
  {
   "cell_type": "code",
   "execution_count": 73,
   "id": "3b1b7556-1c85-4ea3-a628-90c3458990c1",
   "metadata": {
    "tags": []
   },
   "outputs": [],
   "source": [
    "#again N+1 / 2"
   ]
  },
  {
   "cell_type": "code",
   "execution_count": 74,
   "id": "32f7573b-2f18-4ce2-a9f3-82aaf98bb8ee",
   "metadata": {
    "tags": []
   },
   "outputs": [
    {
     "name": "stdout",
     "output_type": "stream",
     "text": [
      "6.0\n",
      "76.0\n",
      "1372.0\n"
     ]
    }
   ],
   "source": [
    "print(y[10])\n",
    "print(y[100])\n",
    "print(y[1000])"
   ]
  },
  {
   "cell_type": "code",
   "execution_count": 75,
   "id": "e3582bcb-8a14-427c-b369-2d8802b27869",
   "metadata": {},
   "outputs": [],
   "source": [
    "#no clear pattern"
   ]
  },
  {
   "cell_type": "code",
   "execution_count": 76,
   "id": "f207b694-6890-4f07-afd3-066e07b53913",
   "metadata": {
    "tags": []
   },
   "outputs": [
    {
     "name": "stdout",
     "output_type": "stream",
     "text": [
      "14.0\n",
      "147.0\n"
     ]
    }
   ],
   "source": [
    "print(y[11])\n",
    "print(y[121])"
   ]
  },
  {
   "cell_type": "code",
   "execution_count": 77,
   "id": "1dd33386-05c6-48f7-a1a0-563215f56c78",
   "metadata": {
    "tags": []
   },
   "outputs": [
    {
     "name": "stdout",
     "output_type": "stream",
     "text": [
      "7.0\n",
      "85.0\n"
     ]
    }
   ],
   "source": [
    "#no clear pattern\n",
    "print(y[13])\n",
    "print(y[169])"
   ]
  },
  {
   "cell_type": "code",
   "execution_count": null,
   "id": "0cb3a46c-cc86-41ab-9f12-88436a465ddf",
   "metadata": {},
   "outputs": [],
   "source": []
  }
 ],
 "metadata": {
  "kernelspec": {
   "display_name": "Python 3 (ipykernel)",
   "language": "python",
   "name": "python3"
  },
  "language_info": {
   "codemirror_mode": {
    "name": "ipython",
    "version": 3
   },
   "file_extension": ".py",
   "mimetype": "text/x-python",
   "name": "python",
   "nbconvert_exporter": "python",
   "pygments_lexer": "ipython3",
   "version": "3.11.5"
  }
 },
 "nbformat": 4,
 "nbformat_minor": 5
}
